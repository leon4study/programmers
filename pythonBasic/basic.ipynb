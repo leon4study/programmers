{
 "cells": [
  {
   "cell_type": "markdown",
   "metadata": {},
   "source": [
    "중앙값 구하기\n",
    "\n",
    "중앙값은 어떤 주어진 값들을 크기의 순서대로 정렬했을 때 가장 중앙에 위치하는 값을 의미합니다. 예를 들어 1, 2, 7, 10, 11의 중앙값은 7입니다. 정수 배열 array가 매개변수로 주어질 때, 중앙값을 return 하도록 solution 함수를 완성해보세요.\n",
    "\n",
    "데이터의 개수가 홀수라면 중앙값은 정렬된 결과의 가운데 수입니다\n",
    "데이터의 개수가 짝수라면 중앙값은 가운데 두 수의 평균입니다.\n"
   ]
  },
  {
   "cell_type": "code",
   "execution_count": 54,
   "metadata": {},
   "outputs": [
    {
     "data": {
      "text/plain": [
       "3"
      ]
     },
     "execution_count": 54,
     "metadata": {},
     "output_type": "execute_result"
    }
   ],
   "source": [
    "array = [1, 2, 3, 4, 5]\n",
    "\n",
    "def solution(array):\n",
    "    array.sort()\n",
    "    array_len = len(array)\n",
    "    mid_num = int(array_len/2)\n",
    "    if array_len % 2 == 0:\n",
    "        return (array[mid_num] + array[mid_num]) /2\n",
    "    else :\n",
    "        return array[mid_num]\n",
    "\n",
    "solution(array)"
   ]
  },
  {
   "cell_type": "code",
   "execution_count": 55,
   "metadata": {},
   "outputs": [
    {
     "data": {
      "text/plain": [
       "2"
      ]
     },
     "execution_count": 55,
     "metadata": {},
     "output_type": "execute_result"
    }
   ],
   "source": [
    "#반올림\n",
    "round(1.5)"
   ]
  },
  {
   "cell_type": "code",
   "execution_count": 56,
   "metadata": {},
   "outputs": [
    {
     "data": {
      "text/plain": [
       "1"
      ]
     },
     "execution_count": 56,
     "metadata": {},
     "output_type": "execute_result"
    }
   ],
   "source": [
    "#int 를 활용한 내림\n",
    "int(1.7)"
   ]
  },
  {
   "cell_type": "markdown",
   "metadata": {},
   "source": [
    "가위바위보\n",
    "\n",
    "가위는 2 바위는 0 보는 5로 표현합니다. 가위 바위 보를 내는 순서대로 나타낸 문자열 rsp가 매개변수로 주어질 때, rsp에 저장된 가위 바위 보를 모두 이기는 경우를 순서대로 나타낸 문자열을 return하도록 solution 함수를 완성해보세요."
   ]
  },
  {
   "cell_type": "code",
   "execution_count": null,
   "metadata": {},
   "outputs": [],
   "source": [
    "#나의 풀이\n",
    "\n",
    "def solution(rsp):\n",
    "    rsp = rsp.replace(\"2\", \"가\")\n",
    "    rsp = rsp.replace(\"0\", \"바\")\n",
    "    rsp = rsp.replace(\"5\", \"보\")\n",
    "    rsp = rsp.replace(\"가\",\"0\")\n",
    "    rsp = rsp.replace(\"바\",\"5\")\n",
    "    rsp = rsp.replace(\"보\",\"2\")\n",
    "    return rsp"
   ]
  },
  {
   "cell_type": "code",
   "execution_count": null,
   "metadata": {},
   "outputs": [],
   "source": [
    "#다른 아이디어 \n",
    "\n",
    "def solution(rsp):\n",
    "    d = {'0':'5','2':'0','5':'2'}\n",
    "    return ''.join(d[i] for i in rsp)"
   ]
  },
  {
   "cell_type": "code",
   "execution_count": 69,
   "metadata": {},
   "outputs": [],
   "source": [
    "char = \"\"\n",
    "char += \"3\""
   ]
  },
  {
   "cell_type": "code",
   "execution_count": 70,
   "metadata": {},
   "outputs": [
    {
     "data": {
      "text/plain": [
       "'3'"
      ]
     },
     "execution_count": 70,
     "metadata": {},
     "output_type": "execute_result"
    }
   ],
   "source": [
    "char"
   ]
  },
  {
   "cell_type": "markdown",
   "metadata": {},
   "source": [
    "모음제거\n",
    "\n",
    "영어에선 a, e, i, o, u 다섯 가지 알파벳을 모음으로 분류합니다. 문자열 my_string이 매개변수로 주어질 때 모음을 제거한 문자열을 return하도록 solution 함수를 완성해주세요."
   ]
  },
  {
   "cell_type": "code",
   "execution_count": 71,
   "metadata": {},
   "outputs": [],
   "source": [
    "def solution(my_string):\n",
    "    v = \"aeiou\"\n",
    "    result = \"\"\n",
    "    for char in my_string:\n",
    "        if char not in v:\n",
    "            result+= char\n",
    "    return result"
   ]
  },
  {
   "cell_type": "markdown",
   "metadata": {},
   "source": [
    "군 전략가 머쓱이는 전쟁 중 적군이 다음과 같은 암호 체계를 사용한다는 것을 알아냈습니다.\n",
    "\n",
    "암호화된 문자열 cipher를 주고받습니다.\n",
    "그 문자열에서 code의 배수 번째 글자만 진짜 암호입니다.\n",
    "문자열 cipher와 정수 code가 매개변수로 주어질 때 해독된 암호 문자열을 return하도록 solution 함수를 완성해주세요."
   ]
  },
  {
   "cell_type": "markdown",
   "metadata": {},
   "source": [
    "입출력 예\n",
    "\n",
    "|cipher\t|code\t|result|\n",
    "|-|-|-|\n",
    "|\"dfjardstddetckdaccccdegk\"|\t4|\"attack\"|"
   ]
  },
  {
   "cell_type": "code",
   "execution_count": null,
   "metadata": {},
   "outputs": [],
   "source": [
    "#내 아이디어\n",
    "def solution(cipher, code):\n",
    "    msg =\"\"\n",
    "    for i,j in enumerate(cipher, start= 1):\n",
    "        if i % code == 0:\n",
    "            msg+=j\n",
    "    return msg"
   ]
  },
  {
   "cell_type": "code",
   "execution_count": null,
   "metadata": {},
   "outputs": [],
   "source": [
    "# 다른 아이디어\n",
    "def solution(cipher, code):\n",
    "    answer = cipher[code-1::code]\n",
    "    return answer"
   ]
  },
  {
   "cell_type": "code",
   "execution_count": 79,
   "metadata": {},
   "outputs": [
    {
     "data": {
      "text/plain": [
       "'attack'"
      ]
     },
     "execution_count": 79,
     "metadata": {},
     "output_type": "execute_result"
    }
   ],
   "source": [
    "code = 4\n",
    "cipher = 'dfjardstddetckdaccccdegk'\n",
    "cipher[code-1::code]"
   ]
  },
  {
   "cell_type": "code",
   "execution_count": 81,
   "metadata": {},
   "outputs": [
    {
     "data": {
      "text/plain": [
       "'attack'"
      ]
     },
     "execution_count": 81,
     "metadata": {},
     "output_type": "execute_result"
    }
   ],
   "source": [
    "cipher[code-1::code]"
   ]
  },
  {
   "cell_type": "markdown",
   "metadata": {},
   "source": [
    "대문자와 소문자\n",
    "\n",
    "문자열 my_string이 매개변수로 주어질 때, 대문자는 소문자로 소문자는 대문자로 변환한 문자열을 return하도록 solution 함수를 완성해주세요.\n",
    "\n"
   ]
  },
  {
   "cell_type": "markdown",
   "metadata": {},
   "source": [
    "|my_string\t|result|\n",
    "|-|-|\n",
    "|\"cccCCC\"\t|\"CCCccc\"|\n",
    "|\"abCdEfghIJ\"\t|\"ABcDeFGHij\"|"
   ]
  },
  {
   "cell_type": "code",
   "execution_count": 84,
   "metadata": {},
   "outputs": [
    {
     "data": {
      "text/plain": [
       "False"
      ]
     },
     "execution_count": 84,
     "metadata": {},
     "output_type": "execute_result"
    }
   ],
   "source": [
    "\"a\" >\"b\""
   ]
  },
  {
   "cell_type": "code",
   "execution_count": 88,
   "metadata": {},
   "outputs": [
    {
     "data": {
      "text/plain": [
       "'A'"
      ]
     },
     "execution_count": 88,
     "metadata": {},
     "output_type": "execute_result"
    }
   ],
   "source": [
    "#아스키 값 이용\n",
    "chr(ord(\"a\")-32)"
   ]
  },
  {
   "cell_type": "code",
   "execution_count": 91,
   "metadata": {},
   "outputs": [
    {
     "data": {
      "text/plain": [
       "'CCCccc'"
      ]
     },
     "execution_count": 91,
     "metadata": {},
     "output_type": "execute_result"
    }
   ],
   "source": [
    "my_string = \"cccCCC\"\n",
    "\n",
    "def solution(my_string):\n",
    "    result = \"\"\n",
    "    for i in my_string:\n",
    "        if \"a\" <= i <= \"z\":\n",
    "            result+= chr(ord(i)-32)\n",
    "        elif \"A\" <= i <= \"Z\":\n",
    "            result += chr(ord(i)+32)\n",
    "    return result\n",
    "\n",
    "solution(my_string=my_string)"
   ]
  },
  {
   "cell_type": "markdown",
   "metadata": {},
   "source": [
    "문제 설명\n",
    "\n",
    "정수 n과 정수 배열 numlist가 매개변수로 주어질 때, numlist에서 n의 배수가 아닌 수들을 제거한 배열을 return하도록 solution 함수를 완성해주세요."
   ]
  },
  {
   "cell_type": "code",
   "execution_count": 103,
   "metadata": {},
   "outputs": [
    {
     "data": {
      "text/plain": [
       "[9, 10, 5]"
      ]
     },
     "execution_count": 103,
     "metadata": {},
     "output_type": "execute_result"
    }
   ],
   "source": [
    "def solution(n, numlist):\n",
    "    for i in numlist:\n",
    "        if not i%n ==0:\n",
    "            numlist.remove(i)\n",
    "    return numlist"
   ]
  },
  {
   "cell_type": "markdown",
   "metadata": {},
   "source": [
    "remove 를 써서 길이가 달라져서 그런 듯?"
   ]
  },
  {
   "cell_type": "markdown",
   "metadata": {},
   "source": [
    "문제 설명\n",
    "정수 n이 매개변수로 주어질 때 n의 각 자리 숫자의 합을 return하도록 solution 함수를 완성해주세요\n",
    "\n",
    "입출력 예\n",
    "\n",
    "|n\t|result|\n",
    "|-|-|\n",
    "|1234\t|10|\n",
    "|930211\t|16|"
   ]
  },
  {
   "cell_type": "code",
   "execution_count": null,
   "metadata": {},
   "outputs": [],
   "source": [
    "# 내 코드\n",
    "def solution(n):\n",
    "    answer = 0\n",
    "    while n >= 10:\n",
    "        answer += n%10\n",
    "        n = n//10\n",
    "    answer += n\n",
    "    return answer"
   ]
  },
  {
   "cell_type": "code",
   "execution_count": 1,
   "metadata": {},
   "outputs": [],
   "source": [
    "# 다른 아이디어\n",
    "def solution1(n):\n",
    "    answer = 0\n",
    "    while n:\n",
    "        answer += n%10\n",
    "        n //= 10 # n이 10 이하면 0이 됨 -> while 0 = 종료.\n",
    "    return answer\n",
    "\n"
   ]
  },
  {
   "cell_type": "code",
   "execution_count": null,
   "metadata": {},
   "outputs": [],
   "source": []
  }
 ],
 "metadata": {
  "kernelspec": {
   "display_name": "leo4study",
   "language": "python",
   "name": "python3"
  },
  "language_info": {
   "codemirror_mode": {
    "name": "ipython",
    "version": 3
   },
   "file_extension": ".py",
   "mimetype": "text/x-python",
   "name": "python",
   "nbconvert_exporter": "python",
   "pygments_lexer": "ipython3",
   "version": "3.11.9"
  }
 },
 "nbformat": 4,
 "nbformat_minor": 2
}
