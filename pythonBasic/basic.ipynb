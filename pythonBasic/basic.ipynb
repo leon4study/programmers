{
 "cells": [
  {
   "cell_type": "markdown",
   "metadata": {},
   "source": [
    "중앙값 구하기\n",
    "\n",
    "중앙값은 어떤 주어진 값들을 크기의 순서대로 정렬했을 때 가장 중앙에 위치하는 값을 의미합니다. 예를 들어 1, 2, 7, 10, 11의 중앙값은 7입니다. 정수 배열 array가 매개변수로 주어질 때, 중앙값을 return 하도록 solution 함수를 완성해보세요.\n",
    "\n",
    "데이터의 개수가 홀수라면 중앙값은 정렬된 결과의 가운데 수입니다\n",
    "데이터의 개수가 짝수라면 중앙값은 가운데 두 수의 평균입니다.\n"
   ]
  },
  {
   "cell_type": "code",
   "execution_count": 54,
   "metadata": {},
   "outputs": [
    {
     "data": {
      "text/plain": [
       "3"
      ]
     },
     "execution_count": 54,
     "metadata": {},
     "output_type": "execute_result"
    }
   ],
   "source": [
    "array = [1, 2, 3, 4, 5]\n",
    "\n",
    "def solution(array):\n",
    "    array.sort()\n",
    "    array_len = len(array)\n",
    "    mid_num = int(array_len/2)\n",
    "    if array_len % 2 == 0:\n",
    "        return (array[mid_num] + array[mid_num]) /2\n",
    "    else :\n",
    "        return array[mid_num]\n",
    "\n",
    "solution(array)"
   ]
  },
  {
   "cell_type": "code",
   "execution_count": 55,
   "metadata": {},
   "outputs": [
    {
     "data": {
      "text/plain": [
       "2"
      ]
     },
     "execution_count": 55,
     "metadata": {},
     "output_type": "execute_result"
    }
   ],
   "source": [
    "#반올림\n",
    "round(1.5)"
   ]
  },
  {
   "cell_type": "code",
   "execution_count": 56,
   "metadata": {},
   "outputs": [
    {
     "data": {
      "text/plain": [
       "1"
      ]
     },
     "execution_count": 56,
     "metadata": {},
     "output_type": "execute_result"
    }
   ],
   "source": [
    "#int 를 활용한 내림\n",
    "int(1.7)"
   ]
  },
  {
   "cell_type": "markdown",
   "metadata": {},
   "source": [
    "가위바위보\n",
    "\n",
    "가위는 2 바위는 0 보는 5로 표현합니다. 가위 바위 보를 내는 순서대로 나타낸 문자열 rsp가 매개변수로 주어질 때, rsp에 저장된 가위 바위 보를 모두 이기는 경우를 순서대로 나타낸 문자열을 return하도록 solution 함수를 완성해보세요."
   ]
  },
  {
   "cell_type": "code",
   "execution_count": null,
   "metadata": {},
   "outputs": [],
   "source": [
    "#나의 풀이\n",
    "\n",
    "def solution(rsp):\n",
    "    rsp = rsp.replace(\"2\", \"가\")\n",
    "    rsp = rsp.replace(\"0\", \"바\")\n",
    "    rsp = rsp.replace(\"5\", \"보\")\n",
    "    rsp = rsp.replace(\"가\",\"0\")\n",
    "    rsp = rsp.replace(\"바\",\"5\")\n",
    "    rsp = rsp.replace(\"보\",\"2\")\n",
    "    return rsp"
   ]
  },
  {
   "cell_type": "code",
   "execution_count": null,
   "metadata": {},
   "outputs": [],
   "source": [
    "#다른 아이디어 \n",
    "\n",
    "def solution(rsp):\n",
    "    d = {'0':'5','2':'0','5':'2'}\n",
    "    return ''.join(d[i] for i in rsp)"
   ]
  },
  {
   "cell_type": "code",
   "execution_count": 69,
   "metadata": {},
   "outputs": [],
   "source": [
    "char = \"\"\n",
    "char += \"3\""
   ]
  },
  {
   "cell_type": "code",
   "execution_count": 70,
   "metadata": {},
   "outputs": [
    {
     "data": {
      "text/plain": [
       "'3'"
      ]
     },
     "execution_count": 70,
     "metadata": {},
     "output_type": "execute_result"
    }
   ],
   "source": [
    "char"
   ]
  },
  {
   "cell_type": "markdown",
   "metadata": {},
   "source": [
    "모음제거\n",
    "\n",
    "영어에선 a, e, i, o, u 다섯 가지 알파벳을 모음으로 분류합니다. 문자열 my_string이 매개변수로 주어질 때 모음을 제거한 문자열을 return하도록 solution 함수를 완성해주세요."
   ]
  },
  {
   "cell_type": "code",
   "execution_count": 71,
   "metadata": {},
   "outputs": [],
   "source": [
    "def solution(my_string):\n",
    "    v = \"aeiou\"\n",
    "    result = \"\"\n",
    "    for char in my_string:\n",
    "        if char not in v:\n",
    "            result+= char\n",
    "    return result"
   ]
  },
  {
   "cell_type": "markdown",
   "metadata": {},
   "source": [
    "군 전략가 머쓱이는 전쟁 중 적군이 다음과 같은 암호 체계를 사용한다는 것을 알아냈습니다.\n",
    "\n",
    "암호화된 문자열 cipher를 주고받습니다.\n",
    "그 문자열에서 code의 배수 번째 글자만 진짜 암호입니다.\n",
    "문자열 cipher와 정수 code가 매개변수로 주어질 때 해독된 암호 문자열을 return하도록 solution 함수를 완성해주세요."
   ]
  },
  {
   "cell_type": "markdown",
   "metadata": {},
   "source": [
    "입출력 예\n",
    "\n",
    "|cipher\t|code\t|result|\n",
    "|-|-|-|\n",
    "|\"dfjardstddetckdaccccdegk\"|\t4|\"attack\"|"
   ]
  },
  {
   "cell_type": "code",
   "execution_count": null,
   "metadata": {},
   "outputs": [],
   "source": [
    "#내 아이디어\n",
    "def solution(cipher, code):\n",
    "    msg =\"\"\n",
    "    for i,j in enumerate(cipher, start= 1):\n",
    "        if i % code == 0:\n",
    "            msg+=j\n",
    "    return msg"
   ]
  },
  {
   "cell_type": "code",
   "execution_count": null,
   "metadata": {},
   "outputs": [],
   "source": [
    "# 다른 아이디어\n",
    "def solution(cipher, code):\n",
    "    answer = cipher[code-1::code]\n",
    "    return answer"
   ]
  },
  {
   "cell_type": "code",
   "execution_count": 79,
   "metadata": {},
   "outputs": [
    {
     "data": {
      "text/plain": [
       "'attack'"
      ]
     },
     "execution_count": 79,
     "metadata": {},
     "output_type": "execute_result"
    }
   ],
   "source": [
    "code = 4\n",
    "cipher = 'dfjardstddetckdaccccdegk'\n",
    "cipher[code-1::code]"
   ]
  },
  {
   "cell_type": "code",
   "execution_count": 81,
   "metadata": {},
   "outputs": [
    {
     "data": {
      "text/plain": [
       "'attack'"
      ]
     },
     "execution_count": 81,
     "metadata": {},
     "output_type": "execute_result"
    }
   ],
   "source": [
    "cipher[code-1::code]"
   ]
  },
  {
   "cell_type": "markdown",
   "metadata": {},
   "source": [
    "대문자와 소문자\n",
    "\n",
    "문자열 my_string이 매개변수로 주어질 때, 대문자는 소문자로 소문자는 대문자로 변환한 문자열을 return하도록 solution 함수를 완성해주세요.\n",
    "\n"
   ]
  },
  {
   "cell_type": "markdown",
   "metadata": {},
   "source": [
    "|my_string\t|result|\n",
    "|-|-|\n",
    "|\"cccCCC\"\t|\"CCCccc\"|\n",
    "|\"abCdEfghIJ\"\t|\"ABcDeFGHij\"|"
   ]
  },
  {
   "cell_type": "code",
   "execution_count": 84,
   "metadata": {},
   "outputs": [
    {
     "data": {
      "text/plain": [
       "False"
      ]
     },
     "execution_count": 84,
     "metadata": {},
     "output_type": "execute_result"
    }
   ],
   "source": [
    "\"a\" >\"b\""
   ]
  },
  {
   "cell_type": "code",
   "execution_count": 88,
   "metadata": {},
   "outputs": [
    {
     "data": {
      "text/plain": [
       "'A'"
      ]
     },
     "execution_count": 88,
     "metadata": {},
     "output_type": "execute_result"
    }
   ],
   "source": [
    "#아스키 값 이용\n",
    "chr(ord(\"a\")-32)"
   ]
  },
  {
   "cell_type": "code",
   "execution_count": 91,
   "metadata": {},
   "outputs": [
    {
     "data": {
      "text/plain": [
       "'CCCccc'"
      ]
     },
     "execution_count": 91,
     "metadata": {},
     "output_type": "execute_result"
    }
   ],
   "source": [
    "my_string = \"cccCCC\"\n",
    "\n",
    "def solution(my_string):\n",
    "    result = \"\"\n",
    "    for i in my_string:\n",
    "        if \"a\" <= i <= \"z\":\n",
    "            result+= chr(ord(i)-32)\n",
    "        elif \"A\" <= i <= \"Z\":\n",
    "            result += chr(ord(i)+32)\n",
    "    return result\n",
    "\n",
    "solution(my_string=my_string)"
   ]
  },
  {
   "cell_type": "markdown",
   "metadata": {},
   "source": [
    "문제 설명\n",
    "\n",
    "정수 n과 정수 배열 numlist가 매개변수로 주어질 때, numlist에서 n의 배수가 아닌 수들을 제거한 배열을 return하도록 solution 함수를 완성해주세요."
   ]
  },
  {
   "cell_type": "code",
   "execution_count": 103,
   "metadata": {},
   "outputs": [
    {
     "data": {
      "text/plain": [
       "[9, 10, 5]"
      ]
     },
     "execution_count": 103,
     "metadata": {},
     "output_type": "execute_result"
    }
   ],
   "source": [
    "def solution(n, numlist):\n",
    "    for i in numlist:\n",
    "        if not i%n ==0:\n",
    "            numlist.remove(i)\n",
    "    return numlist"
   ]
  },
  {
   "cell_type": "markdown",
   "metadata": {},
   "source": [
    "remove 를 써서 길이가 달라져서 그런 듯?"
   ]
  },
  {
   "cell_type": "markdown",
   "metadata": {},
   "source": [
    "문제 설명\n",
    "정수 n이 매개변수로 주어질 때 n의 각 자리 숫자의 합을 return하도록 solution 함수를 완성해주세요\n",
    "\n",
    "입출력 예\n",
    "\n",
    "|n\t|result|\n",
    "|-|-|\n",
    "|1234\t|10|\n",
    "|930211\t|16|"
   ]
  },
  {
   "cell_type": "code",
   "execution_count": null,
   "metadata": {},
   "outputs": [],
   "source": [
    "# 내 코드\n",
    "def solution(n):\n",
    "    answer = 0\n",
    "    while n >= 10:\n",
    "        answer += n%10\n",
    "        n = n//10\n",
    "    answer += n\n",
    "    return answer"
   ]
  },
  {
   "cell_type": "code",
   "execution_count": 1,
   "metadata": {},
   "outputs": [],
   "source": [
    "# 다른 아이디어\n",
    "def solution1(n):\n",
    "    answer = 0\n",
    "    while n:\n",
    "        answer += n%10\n",
    "        n //= 10 # n이 10 이하면 0이 됨 -> while 0 = 종료.\n",
    "    return answer\n",
    "\n"
   ]
  },
  {
   "cell_type": "markdown",
   "metadata": {},
   "source": [
    "문제 설명\n",
    "최대 5명씩 탑승가능한 놀이기구를 타기 위해 줄을 서있는 사람들의 이름이 담긴 문자열 리스트 names가 주어질 때, 앞에서 부터 5명씩 묶은 그룹의 가장 앞에 서있는 사람들의 이름을 담은 리스트를 return하도록 solution 함수를 완성해주세요. 마지막 그룹이 5명이 되지 않더라도 가장 앞에 있는 사람의 이름을 포함합니다."
   ]
  },
  {
   "cell_type": "markdown",
   "metadata": {},
   "source": [
    "입출력 예\n",
    "|names\t|result|\n",
    "|-|-|\n",
    "|[\"nami\", \"ahri\", \"jayce\", \"garen\", \"ivern\", \"vex\", \"jinx\"]|\t[\"nami\", \"vex\"]|\n"
   ]
  },
  {
   "cell_type": "markdown",
   "metadata": {},
   "source": [
    "입출력 예 설명\n",
    "\n",
    "입출력 예 #1\n",
    "\n",
    "앞에서부터 5명씩 두 그룹으로 묶을 수 있습니다. [\"nami\", \"ahri\", \"jayce\", \"garen\", \"ivern\"], [\"vex\", \"jinx\"] 이 두 그룹에서 가장 앞에 서있는 사람들의 이름을 담은 리스트인 [\"nami\", \"vex\"]를 return합니다.\n"
   ]
  },
  {
   "cell_type": "code",
   "execution_count": 2,
   "metadata": {},
   "outputs": [
    {
     "data": {
      "text/plain": [
       "['nami', 'vex']"
      ]
     },
     "execution_count": 2,
     "metadata": {},
     "output_type": "execute_result"
    }
   ],
   "source": [
    "names = [\"nami\", \"ahri\", \"jayce\", \"garen\", \"ivern\", \"vex\", \"jinx\"]\n",
    "def solution(names):\n",
    "    \n",
    "    return names[::5]\n",
    "\n",
    "solution(names)"
   ]
  },
  {
   "cell_type": "markdown",
   "metadata": {},
   "source": [
    "Python에서는 쉼표를 사용하여 변수의 값을 한 번에 할당할 수 있습니다. 예를 들어, 두 개의 변수는 숫자 값으로, 나머지는 리스트로 할당하려면 다음과 같이 할 수 있습니다:\n",
    "\n"
   ]
  },
  {
   "cell_type": "code",
   "execution_count": null,
   "metadata": {},
   "outputs": [],
   "source": [
    "# 예제 리스트\n",
    "arr = [1, 2, 3, 4, 5, 6]\n",
    "\n",
    "# 두 개의 숫자 변수와 나머지를 리스트로 할당\n",
    "a, b, *rest = arr\n",
    "\n",
    "# 결과 출력\n",
    "print(a)    # 출력: 1\n",
    "print(b)    # 출력: 2\n",
    "print(rest) # 출력: [3, 4, 5, 6]"
   ]
  },
  {
   "cell_type": "markdown",
   "metadata": {},
   "source": [
    "문제 설명\n",
    "\n",
    "정수 start_num와 end_num가 주어질 때, start_num에서 end_num까지 1씩 감소하는 수들을 차례로 담은 리스트를 return하도록 solution 함수를 완성해주세요.\n",
    "\n",
    "입출력 예\n",
    "\n",
    "|start_num\t|end_num\t|result|\n",
    "|-|-|-|\n",
    "|10|\t3\t|[10, 9, 8, 7, 6, 5, 4, 3]|\n",
    "\n",
    "입출력 예 #1\n",
    "\n",
    "10부터 3까지 1씩 감소하는 수를 담은 리스트는 [10, 9, 8, 7, 6, 5, 4, 3]입니다."
   ]
  },
  {
   "cell_type": "code",
   "execution_count": 8,
   "metadata": {},
   "outputs": [
    {
     "name": "stdout",
     "output_type": "stream",
     "text": [
      "10\n",
      "9\n",
      "8\n",
      "7\n",
      "6\n",
      "5\n",
      "4\n",
      "3\n"
     ]
    }
   ],
   "source": [
    "def solution(start_num, end_num):\n",
    "    return [i for i in range(start_num, end_num-1,-1)]"
   ]
  },
  {
   "cell_type": "markdown",
   "metadata": {},
   "source": [
    "정수 n과 k가 주어졌을 때, 1 이상 n이하의 정수 중에서 k의 배수를 오름차순으로 저장한 배열을 return 하는 solution 함수를 완성해 주세요.\n",
    "\n",
    "입출력 예\n",
    "\n",
    "|n\t|k\t|result|\n",
    "|-|-|-|\n",
    "|10\t|3\t|[3, 6, 9]|\n",
    "|15|\t5\t|[5, 10, 15]|\n",
    "\n",
    "\n",
    "입출력 예 #1\n",
    "\n",
    "1 이상 10 이하의 3의 배수는 3, 6, 9 이므로 [3, 6, 9]를 return 합니다.\n",
    "\n",
    "\n",
    "입출력 예 #2\n",
    "\n",
    "1 이상 15 이하의 5의 배수는 5, 10, 15 이므로 [5, 10, 15]를 return 합니다."
   ]
  },
  {
   "cell_type": "code",
   "execution_count": 13,
   "metadata": {},
   "outputs": [],
   "source": [
    "def solution(n, k):\n",
    "    return [i for i in range(k,n+1) if i % k == 0 ]"
   ]
  },
  {
   "cell_type": "code",
   "execution_count": 15,
   "metadata": {},
   "outputs": [
    {
     "data": {
      "text/plain": [
       "False"
      ]
     },
     "execution_count": 15,
     "metadata": {},
     "output_type": "execute_result"
    }
   ],
   "source": [
    "my_string = \"banana\"\n",
    "is_prefix = \"ban\"\n",
    "\n",
    "my_string.startswith(is_prefix)\n",
    "my_string.endswith(is_prefix)"
   ]
  },
  {
   "cell_type": "markdown",
   "metadata": {},
   "source": [
    "문자열 my_string과 정수 n이 매개변수로 주어질 때, my_string의 뒤의 n글자로 이루어진 문자열을 return 하는 solution 함수를 작성해 주세요.\n",
    "\n",
    "입출력 예\n",
    "\n",
    "|my_string\t|n|\tresult|\n",
    "|-|-|-|\n",
    "|\"ProgrammerS123\"\t|11\t|\"grammerS123\"|\n",
    "|\"He110W0r1d\"\t|5|\t\"W0r1d\"|\n",
    "\n",
    "입출력 예 #1\n",
    "\n",
    "예제 1번의 my_string에서 뒤의 11글자는 \"grammerS123\"이므로 이 문자열을 return 합니다.\n",
    "입출력 예 #2\n",
    "\n",
    "예제 2번의 my_string에서 뒤의 5글자는 \"W0r1d\"이므로 이 문자열을 return 합니다.\n",
    "\n"
   ]
  },
  {
   "cell_type": "code",
   "execution_count": 16,
   "metadata": {},
   "outputs": [],
   "source": [
    "def solution(my_string, n):\n",
    "    return my_string[-n:]"
   ]
  },
  {
   "cell_type": "markdown",
   "metadata": {},
   "source": [
    "문제 설명\n",
    "\n",
    "길이가 같은 문자열 배열 my_strings와 이차원 정수 배열 parts가 매개변수로 주어집니다. parts[i]는 [s, e] 형태로, my_string[i]의 인덱스 s부터 인덱스 e까지의 부분 문자열을 의미합니다. 각 my_strings의 원소의 parts에 해당하는 부분 문자열을 순서대로 이어 붙인 문자열을 return 하는 solution 함수를 작성해 주세요.\n",
    "\n",
    "입출력 예\n",
    "|my_strings\t|parts|\tresult|\n",
    "|-|-|-|\n",
    "|[\"progressive\", \"hamburger\", \"hammer\", \"ahocorasick\"]| [[0, 4], [1, 2], [3, 5], [7, 7]]\t|\"programmers\"|\n"
   ]
  },
  {
   "cell_type": "code",
   "execution_count": 21,
   "metadata": {},
   "outputs": [
    {
     "data": {
      "text/plain": [
       "'programmers'"
      ]
     },
     "execution_count": 21,
     "metadata": {},
     "output_type": "execute_result"
    }
   ],
   "source": [
    "def solution(my_strings, parts):\n",
    "    result = ''\n",
    "    len1 = len(parts)\n",
    "    for i in range(len1):\n",
    "        result += my_strings[i][parts[i][0]:parts[i][1]+1]\n",
    "    return result\n",
    "\n",
    "my_strings = [\"progressive\", \"hamburger\", \"hammer\", \"ahocorasick\"]\n",
    "parts = [[0, 4], [1, 2], [3, 5], [7, 7]]\n",
    "\n",
    "solution(my_strings ,parts )"
   ]
  },
  {
   "cell_type": "markdown",
   "metadata": {},
   "source": [
    "정수 n과 문자열 control이 주어집니다. control은 \"w\", \"a\", \"s\", \"d\"의 4개의 문자로 이루어져 있으며, control의 앞에서부터 순서대로 문자에 따라 n의 값을 바꿉니다.\n",
    "\n",
    "\"w\" : n이 1 커집니다.\n",
    "\"s\" : n이 1 작아집니다.\n",
    "\"d\" : n이 10 커집니다.\n",
    "\"a\" : n이 10 작아집니다.\n",
    "위 규칙에 따라 n을 바꿨을 때 가장 마지막에 나오는 n의 값을 return 하는 solution 함수를 완성해 주세요.\n",
    "\n",
    "입출력 예\n",
    "\n",
    "|n\t|control|\tresult|\n",
    "|-|-|-|\n",
    "|0|\t\"wsdawsdassw\"|\t-1|\n",
    "\n",
    "\n",
    "입출력 예 #1\n",
    "\n",
    "수 n은 control에 따라 다음과 같은 순서로 변하게 됩니다.\n",
    "0 → 1 → 0 → 10 → 0 → 1 → 0 → 10 → 0 → -1 → -2 → -1\n",
    "따라서 -1을 return 합니다."
   ]
  },
  {
   "cell_type": "code",
   "execution_count": 22,
   "metadata": {},
   "outputs": [],
   "source": [
    "def solution(n, control):\n",
    "    solution = n\n",
    "    solution += (control.count('w') - control.count('s'))\n",
    "    solution += (control.count('d') - control.count('a'))*10\n",
    "    return solution\n",
    "        "
   ]
  },
  {
   "cell_type": "markdown",
   "metadata": {},
   "source": [
    "문자열 my_string, overwrite_string과 정수 s가 주어집니다. 문자열 my_string의 인덱스 s부터 overwrite_string의 길이만큼을 문자열 overwrite_string으로 바꾼 문자열을 return 하는 solution 함수를 작성해 주세요.\n",
    "\n",
    "제한사항\n",
    "my_string와 overwrite_string은 숫자와 알파벳으로 이루어져 있습니다.\n",
    "1 ≤ overwrite_string의 길이 ≤ my_string의 길이 ≤ 1,000\n",
    "0 ≤ s ≤ my_string의 길이 - overwrite_string의 길이\n",
    "\n",
    "입출력 예\n",
    "\n",
    "|my_string\t|overwrite_string\t|s\t|result|\n",
    "|-|-|-|-|\n",
    "|\"He11oWor1d\"\t|\"lloWorl\"|\t2\t|\"HelloWorld\"|\n",
    "|\"Program29b8UYP\"|\t\"merS123\"\t|7\t|\"ProgrammerS123\"|\n",
    "\n",
    "입출력 예 #1\n",
    "\n",
    "예제 1번의 my_string에서 인덱스 2부터 overwrite_string의 길이만큼에 해당하는 부분은 \"11oWor1\"이고 이를 \"lloWorl\"로 바꾼 \"HelloWorld\"를 return 합니다.\n",
    "\n"
   ]
  },
  {
   "cell_type": "code",
   "execution_count": 58,
   "metadata": {},
   "outputs": [],
   "source": [
    "my_string = \"He11oWor1d\"\n",
    "overwrite_string = \"lloWorl\"\t\n",
    "direction\t= 2"
   ]
  },
  {
   "cell_type": "markdown",
   "metadata": {},
   "source": [
    "오답코드"
   ]
  },
  {
   "cell_type": "code",
   "execution_count": 55,
   "metadata": {},
   "outputs": [
    {
     "data": {
      "text/plain": [
       "'HelloWorld'"
      ]
     },
     "execution_count": 55,
     "metadata": {},
     "output_type": "execute_result"
    }
   ],
   "source": [
    "my_string.replace(my_string[direction:len(overwrite_string)+direction],overwrite_string)"
   ]
  },
  {
   "cell_type": "code",
   "execution_count": 56,
   "metadata": {},
   "outputs": [],
   "source": [
    "# 반례\n",
    "my_string = \"hahahahahahahahha\"\n",
    "overwrite_string = \"youretoslow\"\n",
    "direction = 4\n",
    "\n",
    "# 예상 : hahayouretoslowha\n",
    "# 결과 : youretoslowahahha"
   ]
  },
  {
   "cell_type": "code",
   "execution_count": 57,
   "metadata": {},
   "outputs": [
    {
     "data": {
      "text/plain": [
       "'youretoslowahahha'"
      ]
     },
     "execution_count": 57,
     "metadata": {},
     "output_type": "execute_result"
    }
   ],
   "source": [
    "my_string.replace(my_string[direction:len(overwrite_string)+direction],overwrite_string)"
   ]
  },
  {
   "cell_type": "markdown",
   "metadata": {},
   "source": [
    "수정 코드"
   ]
  },
  {
   "cell_type": "code",
   "execution_count": 69,
   "metadata": {},
   "outputs": [],
   "source": [
    "first= my_string[:direction]\n",
    "second = my_string[direction:]"
   ]
  },
  {
   "cell_type": "code",
   "execution_count": 70,
   "metadata": {},
   "outputs": [
    {
     "data": {
      "text/plain": [
       "'d'"
      ]
     },
     "execution_count": 70,
     "metadata": {},
     "output_type": "execute_result"
    }
   ],
   "source": [
    "second[len(overwrite_string):]"
   ]
  },
  {
   "cell_type": "markdown",
   "metadata": {},
   "source": [
    "양의 정수 n이 매개변수로 주어집니다. n × n 배열에 1부터 n2 까지 정수를 인덱스 [0][0]부터 시계방향 나선형으로 배치한 이차원 배열을 return 하는 solution 함수를 작성해 주세요.\n",
    "\n",
    "입출력 예\n",
    "\n",
    "|n|\tresult|\n",
    "|-|-|\n",
    "|4|\t[[1, 2, 3, 4], [12, 13, 14, 5], [11, 16, 15, 6], [10, 9, 8, 7]]|\n",
    "|5|\t[[1, 2, 3, 4, 5], [16, 17, 18, 19, 6], [15, 24, 25, 20, 7], [14, 23, 22, 21, 8], [13, 12, 11, 10, 9]]|\n",
    "\n",
    "\n",
    "입출력 예 #1\n",
    "\n",
    "- 예제 1번의 n의 값은 4로 4 × 4 배열에 다음과 같이 1부터 16까지 숫자를 채울 수 있습니다.\n",
    "\n",
    "|행 \\ 열\t|0|\t1|\t2|\t3|\n",
    "|-|-|-|-|-|\n",
    "|0\t|1\t|2\t|3\t|4|\n",
    "|1\t|12\t|13\t|14\t|5|\n",
    "|2\t|11\t|16\t|15\t|6|\n",
    "|3\t|10\t|9\t|8\t|7|\n",
    "\n",
    "따라서 [[1, 2, 3, 4], [12, 13, 14, 5], [11, 16, 15, 6], [10, 9, 8, 7]]를 return 합니다.\n",
    "\n"
   ]
  },
  {
   "cell_type": "markdown",
   "metadata": {},
   "source": [
    "4*4\n",
    "\n",
    "x 0123/333/210/00/12/2/1\n",
    "\n",
    "y 0000/123/333/21/11/2/2\n",
    "\n",
    "</br>\n",
    "\n",
    "5*5\n",
    "\n",
    "x 01234/4444/3210/000/123/33/21/1/2\n",
    "\n",
    "y 00000/1234/4444/321/111/23/33/2/2"
   ]
  },
  {
   "cell_type": "markdown",
   "metadata": {},
   "source": [
    "n\n",
    "\n",
    "n-1,n-1/\n",
    "\n",
    "n-2,n-2/\n",
    "\n",
    ";;..."
   ]
  },
  {
   "cell_type": "code",
   "execution_count": 204,
   "metadata": {},
   "outputs": [
    {
     "data": {
      "text/plain": [
       "[[1, 2, 3, 4, 5, 6],\n",
       " [20, 21, 22, 23, 24, 7],\n",
       " [19, 32, 33, 34, 25, 8],\n",
       " [18, 31, 36, 35, 26, 9],\n",
       " [17, 30, 29, 28, 27, 10],\n",
       " [16, 15, 14, 13, 12, 11]]"
      ]
     },
     "execution_count": 204,
     "metadata": {},
     "output_type": "execute_result"
    }
   ],
   "source": [
    "n = 6\n",
    "\n",
    "array = []\n",
    "\n",
    "for i in range(n):\n",
    "    row = []\n",
    "    for j in range(n):\n",
    "        row.append(0)  # 모든 값을 0으로 초기화\n",
    "    array.append(row)\n",
    "\n",
    "num = 0\n",
    "direction = 1\n",
    "i = 0\n",
    "j = 0\n",
    "\n",
    "while True :\n",
    "\n",
    "    for _ in range(n):\n",
    "        num+=1\n",
    "        j = j+direction\n",
    "        array[i][j-1] = num\n",
    "        \n",
    "\n",
    "    n = n-1\n",
    "\n",
    "    if n > 0:\n",
    "        for _ in range(n):\n",
    "            num+=1\n",
    "            i = i+direction\n",
    "            array[i][j-1] = num\n",
    "        direction *= -1\n",
    "    else:\n",
    "        break\n",
    "\n",
    "\n",
    "array"
   ]
  },
  {
   "cell_type": "code",
   "execution_count": 209,
   "metadata": {},
   "outputs": [
    {
     "name": "stdout",
     "output_type": "stream",
     "text": [
      "[1, 2, 3, 4]\n",
      "[12, 13, 14, 5]\n",
      "[11, 16, 15, 6]\n",
      "[10, 9, 8, 7]\n"
     ]
    }
   ],
   "source": [
    "#GPT 최적화 코드\n",
    "\n",
    "def fill_spiral(n):\n",
    "    array = [[0] * n for _ in range(n)]\n",
    "    num = 1   # 현재 채울 숫자\n",
    "    i, j = 0, -1  # 시작 위치 (0, -1)\n",
    "    direction = 1  # 현재 이동 방향 (1은 오른쪽 또는 아래, -1은 왼쪽 또는 위)\n",
    "    \n",
    "    while n > 0:\n",
    "        # 오른쪽 또는 왼쪽으로 이동하여 값 채우기\n",
    "        for _ in range(n):\n",
    "            j += direction\n",
    "            array[i][j] = num\n",
    "            num += 1\n",
    "        n -= 1\n",
    "        \n",
    "        if n > 0:\n",
    "            # 아래쪽 또는 위쪽으로 이동하여 값 채우기\n",
    "            for _ in range(n):\n",
    "                i += direction\n",
    "                array[i][j] = num\n",
    "                num += 1\n",
    "            # 방향을 반대로 전환\n",
    "            direction *= -1\n",
    "        else:\n",
    "            break\n",
    "\n",
    "    return array\n",
    "\n",
    "# 예제 사용\n",
    "n = 4  # 배열의 크기\n",
    "result = fill_spiral(n)\n",
    "for row in result:\n",
    "    print(row)\n"
   ]
  },
  {
   "cell_type": "markdown",
   "metadata": {},
   "source": [
    "문제 설명\n",
    "\n",
    "이차원 정수 배열 arr이 매개변수로 주어집니다. arr의 행의 수가 더 많다면 열의 수가 행의 수와 같아지도록 각 행의 끝에 0을 추가하고, 열의 수가 더 많다면 행의 수가 열의 수와 같아지도록 각 열의 끝에 0을 추가한 이차원 배열을 return 하는 solution 함수를 작성해 주세요.\n",
    "\n",
    "입출력 예\n",
    "\n",
    "|arr|\tresult|\n",
    "|-|-|\n",
    "|[[572, 22, 37], [287, 726, 384], [85, 137, 292], [487, 13, 876]]\t|[[572, 22, 37, 0], [287, 726, 384, 0], [85, 137, 292, 0], [487, 13, 876, 0]]|\n",
    "|[[57, 192, 534, 2], [9, 345, 192, 999]]\t|[[57, 192, 534, 2], [9, 345, 192, 999], [0, 0, 0, 0], [0, 0, 0, 0]]|\n",
    "|[[1, 2], [3, 4]]\t|[[1, 2], [3, 4]]|\n",
    "\n",
    "입출력 예 #1\n",
    "\n",
    "예제 1번의 arr은 행의 수가 4, 열의 수가 3입니다. 행의 수가 더 많으므로 열의 수를 4로 만들기 위해 arr의 각 행의 끝에 0을 추가한 이차원 배열 [[572, 22, 37, 0], [287, 726, 384, 0], [85, 137, 292, 0], [487, 13, 876, 0]]를 return 합니다."
   ]
  },
  {
   "cell_type": "code",
   "execution_count": 260,
   "metadata": {},
   "outputs": [
    {
     "data": {
      "text/plain": [
       "[[572, 22, 37, 0], [287, 726, 384, 0], [85, 137, 292, 0], [487, 13, 876, 0]]"
      ]
     },
     "execution_count": 260,
     "metadata": {},
     "output_type": "execute_result"
    }
   ],
   "source": [
    "arr = [[572, 22, 37], [287, 726, 384], [85, 137, 292], [487, 13, 876]]\n",
    "#arr = [[1, 2], [3, 4]]\n",
    "\n",
    "def solution(arr):\n",
    "    maxN = len(arr)\n",
    "    for i in arr:\n",
    "        if len(i) > maxN:\n",
    "            maxN = len(i)\n",
    "    \n",
    "    array = [[0]*maxN for _ in range(maxN)]\n",
    "    \n",
    "    for i in range(len(arr)):\n",
    "        for j in range(len(arr[i])):\n",
    "            array[i][j] = arr[i][j]\n",
    "    \n",
    "    return array\n",
    "\n",
    "solution(arr)"
   ]
  },
  {
   "cell_type": "markdown",
   "metadata": {},
   "source": [
    "문제 설명\n",
    "\n",
    "점 네 개의 좌표를 담은 이차원 배열  dots가 다음과 같이 매개변수로 주어집니다.\n",
    "\n",
    "[[x1, y1], [x2, y2], [x3, y3], [x4, y4]]\n",
    "주어진 네 개의 점을 두 개씩 이었을 때, 두 직선이 평행이 되는 경우가 있으면 1을 없으면 0을 return 하도록 solution 함수를 완성해보세요.\n",
    "\n",
    "제한사항\n",
    "dots의 길이 = 4\n",
    "dots의 원소는 [x, y] 형태이며 x, y는 정수입니다.\n",
    "0 ≤ x, y ≤ 100\n",
    "서로 다른 두개 이상의 점이 겹치는 경우는 없습니다.\n",
    "두 직선이 겹치는 경우(일치하는 경우)에도 1을 return 해주세요.\n",
    "임의의 두 점을 이은 직선이 x축 또는 y축과 평행한 경우는 주어지지 않습니다.\n",
    "\n",
    "입출력 예\n",
    "|dots\t|result|\n",
    "|-|-|\n",
    "|[[1, 4], [9, 2], [3, 8], [11, 6]]\t|1|\n",
    "|[[3, 5], [4, 1], [2, 4], [5, 10]]\t|0|\n",
    "\n",
    "입출력 예 #1\n",
    "\n",
    "점 [1, 4], [3, 8]을 잇고 [9, 2], [11, 6]를 이으면 두 선분은 평행합니다."
   ]
  },
  {
   "cell_type": "code",
   "execution_count": 263,
   "metadata": {},
   "outputs": [
    {
     "data": {
      "text/plain": [
       "1"
      ]
     },
     "execution_count": 263,
     "metadata": {},
     "output_type": "execute_result"
    }
   ],
   "source": [
    "def solution(dots):\n",
    "    result = 0\n",
    "    if tilt(dots[0],dots[1]) == tilt(dots[2],dots[3]):\n",
    "        result = 1\n",
    "    if tilt(dots[0],dots[2]) == tilt(dots[1],dots[3]):\n",
    "        result = 1\n",
    "    if tilt(dots[0],dots[3]) == tilt(dots[1],dots[2]):\n",
    "        result = 1\n",
    "        \n",
    "    return result\n",
    "    \n",
    "    \n",
    "def tilt(dot1, dot2):\n",
    "    return (dot1[1]-dot2[1])/(dot1[0]-dot2[0])\n",
    "\n",
    "dots = [[1, 4], [9, 2], [3, 8], [11, 6]]\n",
    "\n",
    "solution(dots)"
   ]
  },
  {
   "cell_type": "markdown",
   "metadata": {},
   "source": [
    "유클리드 호제법 GCD (Greatest Common Divisor), 최대공약수\n",
    "\n",
    "유클리드 호제법은 두 수의 최대공약수를 구하는 간단하고 효율적인 알고리즘입니다. 두 수 𝑎와 𝑏 에 대해, 다음과 같은 방식으로 작동합니다\n",
    "\n",
    "b가 0이 될 때까지 a를 b로 나눈 나머지를 a에 할당하고, a를 b에 할당합니다. b가 0이 되면, a가 최대공약수입니다"
   ]
  },
  {
   "cell_type": "code",
   "execution_count": 269,
   "metadata": {},
   "outputs": [
    {
     "data": {
      "text/plain": [
       "4"
      ]
     },
     "execution_count": 269,
     "metadata": {},
     "output_type": "execute_result"
    }
   ],
   "source": [
    "def gcd(a,b):\n",
    "    while b:\n",
    "        a,b = b, a%b\n",
    "    return a\n",
    "\n",
    "gcd(16,12)"
   ]
  },
  {
   "cell_type": "markdown",
   "metadata": {},
   "source": [
    "최빈값은 주어진 값 중에서 가장 자주 나오는 값을 의미합니다. 정수 배열 array가 매개변수로 주어질 때, 최빈값을 return 하도록 solution 함수를 완성해보세요. 최빈값이 여러 개면 -1을 return 합니다.\n",
    "\n",
    "입출력 예\n",
    "\n",
    "|array\t|result|\n",
    "|-|-|\n",
    "|[1, 2, 3, 3, 3, 4]\t|3|\n",
    "|[1, 1, 2, 2]|\t-1|\n",
    "|[1]\t|1|\n",
    "\n",
    "입출력 예 #1\n",
    "\n",
    "[1, 2, 3, 3, 3, 4]에서 1은 1개 2는 1개 3은 3개 4는 1개로 최빈값은 3입니다.\n"
   ]
  },
  {
   "cell_type": "code",
   "execution_count": 3,
   "metadata": {},
   "outputs": [],
   "source": [
    "array = [1, 2, 3, 3, 3, 4]"
   ]
  },
  {
   "cell_type": "code",
   "execution_count": 4,
   "metadata": {},
   "outputs": [
    {
     "data": {
      "text/plain": [
       "3"
      ]
     },
     "execution_count": 4,
     "metadata": {},
     "output_type": "execute_result"
    }
   ],
   "source": [
    "def solution(array):\n",
    "    count_dic = {}\n",
    "\n",
    "    for i in array:\n",
    "        if i in count_dic:\n",
    "            count_dic[i]+=1\n",
    "        else:\n",
    "            count_dic[i] = 1\n",
    "\n",
    "    keys = list(count_dic.keys())\n",
    "    vales = list(count_dic.values())\n",
    "\n",
    "    maxN = max(vales)\n",
    "    countM = vales.count(maxN)\n",
    "    \n",
    "    if countM > 1:\n",
    "        return -1\n",
    "    else:\n",
    "        return keys[vales.index(maxN)]\n",
    "\n",
    "solution(array)\n"
   ]
  },
  {
   "cell_type": "markdown",
   "metadata": {},
   "source": [
    "GPT 최적화 코드."
   ]
  },
  {
   "cell_type": "code",
   "execution_count": 6,
   "metadata": {},
   "outputs": [
    {
     "name": "stdout",
     "output_type": "stream",
     "text": [
      "3\n"
     ]
    }
   ],
   "source": [
    "def solution(array):\n",
    "    count_dic = {}\n",
    "    max_count = 0\n",
    "    max_value = -1\n",
    "    multiple_max = False\n",
    "\n",
    "    # 빈도를 계산하고 최빈값을 찾음\n",
    "    for i in array:\n",
    "        if i in count_dic:\n",
    "            count_dic[i] += 1\n",
    "        else:\n",
    "            count_dic[i] = 1\n",
    "\n",
    "        # 현재 숫자의 빈도가 더 크다면 최빈값 업데이트\n",
    "        if count_dic[i] > max_count:\n",
    "            max_count = count_dic[i]\n",
    "            max_value = i\n",
    "            multiple_max = False\n",
    "        # 최빈값이 같은 경우\n",
    "        elif count_dic[i] == max_count:\n",
    "            multiple_max = True\n",
    "\n",
    "    # 최빈값이 여러 개인 경우 -1 반환\n",
    "    if multiple_max:\n",
    "        return -1\n",
    "    else:\n",
    "        return max_value\n",
    "\n",
    "# 테스트\n",
    "print(solution(array))  # 3\n"
   ]
  },
  {
   "cell_type": "markdown",
   "metadata": {},
   "source": [
    "다른 사람 풀이"
   ]
  },
  {
   "cell_type": "code",
   "execution_count": 42,
   "metadata": {},
   "outputs": [],
   "source": [
    "array = [1, 1, 2, 3, 3, 3, 4,4,4]"
   ]
  },
  {
   "cell_type": "code",
   "execution_count": 43,
   "metadata": {},
   "outputs": [
    {
     "name": "stdout",
     "output_type": "stream",
     "text": [
      "{1, 2, 3, 4}\n"
     ]
    }
   ],
   "source": [
    "print(set(array))"
   ]
  },
  {
   "cell_type": "code",
   "execution_count": 44,
   "metadata": {},
   "outputs": [
    {
     "name": "stdout",
     "output_type": "stream",
     "text": [
      "0 1\n",
      "array : [1, 2, 3, 3, 3, 4, 4, 4]\n",
      "1 2\n",
      "array : [1, 3, 3, 3, 4, 4, 4]\n",
      "2 3\n",
      "array : [1, 3, 3, 4, 4, 4]\n",
      "3 4\n",
      "array : [1, 3, 3, 4, 4]\n",
      "0 1\n",
      "array : [3, 3, 4, 4]\n",
      "1 3\n",
      "array : [3, 4, 4]\n",
      "2 4\n",
      "array : [3, 4]\n",
      "0 3\n",
      "array : [4]\n",
      "1 4\n",
      "array : []\n"
     ]
    },
    {
     "data": {
      "text/plain": [
       "-1"
      ]
     },
     "execution_count": 44,
     "metadata": {},
     "output_type": "execute_result"
    }
   ],
   "source": [
    "def solution(array):\n",
    "    while len(array) != 0:\n",
    "        for i, a in enumerate(set(array)):\n",
    "            print(i,a)\n",
    "            array.remove(a) # 세트에 있는 숫자를 하나씩 더함.\n",
    "            print('array :',array)\n",
    "        if i == 0: \n",
    "            print(\"i == 0\",array)\n",
    "            return a\n",
    "    return -1\n",
    "\n",
    "solution(array)"
   ]
  },
  {
   "cell_type": "code",
   "execution_count": 61,
   "metadata": {},
   "outputs": [
    {
     "data": {
      "text/plain": [
       "[[1, 2], [3, 4], [5, 6], [7, 8]]"
      ]
     },
     "execution_count": 61,
     "metadata": {},
     "output_type": "execute_result"
    }
   ],
   "source": [
    "n = 8\n",
    "num = []\n",
    "for i in range(1,n+1,1):\n",
    "    if i % 2 ==1 :\n",
    "        num+=[[i,i+1]]\n",
    "num"
   ]
  },
  {
   "cell_type": "code",
   "execution_count": 63,
   "metadata": {},
   "outputs": [
    {
     "data": {
      "text/plain": [
       "[[1, 2, 3, 4], [5, 6, 7, 8]]"
      ]
     },
     "execution_count": 63,
     "metadata": {},
     "output_type": "execute_result"
    }
   ],
   "source": [
    "list1 = []\n",
    "for i in range(len(num)):\n",
    "    if i%2 == 1 :\n",
    "        list1+= [num[i-1]+num[i]]\n",
    "list1"
   ]
  },
  {
   "cell_type": "code",
   "execution_count": 56,
   "metadata": {},
   "outputs": [
    {
     "data": {
      "text/plain": [
       "True"
      ]
     },
     "execution_count": 56,
     "metadata": {},
     "output_type": "execute_result"
    }
   ],
   "source": [
    "list1 = [1,2,3,4,5]\n",
    "1 in list1 and 2 in list1"
   ]
  },
  {
   "cell_type": "code",
   "execution_count": 21,
   "metadata": {},
   "outputs": [
    {
     "name": "stdout",
     "output_type": "stream",
     "text": [
      "0 1\n",
      "1 2\n",
      "2 3\n",
      "3 4\n"
     ]
    }
   ],
   "source": [
    "for i, a in enumerate(set(array)):\n",
    "    print(i,a)"
   ]
  },
  {
   "cell_type": "markdown",
   "metadata": {},
   "source": [
    "△△ 게임대회가 개최되었습니다. 이 대회는 N명이 참가하고, 토너먼트 형식으로 진행됩니다. N명의 참가자는 각각 1부터 N번을 차례대로 배정받습니다. 그리고, 1번↔2번, 3번↔4번, ... , N-1번↔N번의 참가자끼리 게임을 진행합니다. 각 게임에서 이긴 사람은 다음 라운드에 진출할 수 있습니다. 이때, 다음 라운드에 진출할 참가자의 번호는 다시 1번부터 N/2번을 차례대로 배정받습니다. 만약 1번↔2번 끼리 겨루는 게임에서 2번이 승리했다면 다음 라운드에서 1번을 부여받고, 3번↔4번에서 겨루는 게임에서 3번이 승리했다면 다음 라운드에서 2번을 부여받게 됩니다. 게임은 최종 한 명이 남을 때까지 진행됩니다.\n",
    "\n",
    "이때, 처음 라운드에서 A번을 가진 참가자는 경쟁자로 생각하는 B번 참가자와 몇 번째 라운드에서 만나는지 궁금해졌습니다. 게임 참가자 수 N, 참가자 번호 A, 경쟁자 번호 B가 함수 solution의 매개변수로 주어질 때, 처음 라운드에서 A번을 가진 참가자는 경쟁자로 생각하는 B번 참가자와 몇 번째 라운드에서 만나는지 return 하는 solution 함수를 완성해 주세요. 단, A번 참가자와 B번 참가자는 서로 붙게 되기 전까지 항상 이긴다고 가정합니다.\n",
    "\n",
    "제한사항\n",
    "\n",
    "N : 21 이상 220 이하인 자연수 (2의 지수 승으로 주어지므로 부전승은 발생하지 않습니다.)\n",
    "A, B : N 이하인 자연수 (단, A ≠ B 입니다.)\n",
    "\n",
    "입출력 예\n",
    "\n",
    "|N\t|A\t|B|\tanswer|\n",
    "|-|-|-|-|\n",
    "|8\t|4\t|7\t|3|\n",
    "\n",
    "입출력 예 #1\n",
    "\n",
    "첫 번째 라운드에서 4번 참가자는 3번 참가자와 붙게 되고, 7번 참가자는 8번 참가자와 붙게 됩니다. 항상 이긴다고 가정했으므로 4번 참가자는 다음 라운드에서 2번이 되고, 7번 참가자는 4번이 됩니다. 두 번째 라운드에서 2번은 1번과 붙게 되고, 4번은 3번과 붙게 됩니다. 항상 이긴다고 가정했으므로 2번은 다음 라운드에서 1번이 되고, 4번은 2번이 됩니다. 세 번째 라운드에서 1번과 2번으로 두 참가자가 붙게 되므로 3을 return 하면 됩니다.\n",
    "\n"
   ]
  },
  {
   "cell_type": "markdown",
   "metadata": {},
   "source": [
    "내 코드"
   ]
  },
  {
   "cell_type": "code",
   "execution_count": 66,
   "metadata": {},
   "outputs": [
    {
     "data": {
      "text/plain": [
       "3"
      ]
     },
     "execution_count": 66,
     "metadata": {},
     "output_type": "execute_result"
    }
   ],
   "source": [
    "def solution(n,a,b):\n",
    "\n",
    "    num = []\n",
    "    for i in range(1,n+1,1):\n",
    "        if i % 2 ==1 :\n",
    "            num+=[[i,i+1]]\n",
    "\n",
    "    round = 1\n",
    "    while n > 1:\n",
    "        n = int(n/2)\n",
    "        list1 = []\n",
    "        for i in range(n):\n",
    "            temp = num[i]\n",
    "            if a in temp and b in temp:\n",
    "                return round\n",
    "            if i% 2 == 1 :\n",
    "                list1 += [num[i-1]+num[i]]\n",
    "\n",
    "        num = list1\n",
    "        round += 1\n",
    "\n",
    "solution(8,4,7)"
   ]
  },
  {
   "cell_type": "markdown",
   "metadata": {},
   "source": [
    "GPT 최적화 문제"
   ]
  },
  {
   "cell_type": "code",
   "execution_count": 76,
   "metadata": {},
   "outputs": [
    {
     "name": "stdout",
     "output_type": "stream",
     "text": [
      "3\n"
     ]
    }
   ],
   "source": [
    "def solution(n, a, b):\n",
    "    round = 0\n",
    "    \n",
    "    # 참가자 번호를 1부터 시작한다고 가정합니다.\n",
    "    while a != b:\n",
    "        round += 1\n",
    "        # 다음 라운드에서의 번호를 계산합니다.\n",
    "        a = (a + 1) // 2\n",
    "        b = (b + 1) // 2\n",
    "    return round\n",
    "\n",
    "# 예제\n",
    "n = 16\n",
    "a = 4\n",
    "b = 7\n",
    "print(solution(n, a, b))  # 3"
   ]
  },
  {
   "cell_type": "markdown",
   "metadata": {},
   "source": [
    "토너먼트 진행 과정\n",
    "초기 상태:\n",
    "    4번과 7번 참가자는 각각 초기 위치에 있습니다.\n",
    "\n",
    "라운드 1:\n",
    "- 각 참가자의 번호를 (참가자 번호 + 1) // 2로 업데이트합니다.\n",
    "- 4번 참가자: (4 + 1) // 2 = 5 // 2 = 2\n",
    "- 7번 참가자: (7 + 1) // 2 = 8 // 2 = 4\n",
    "- 업데이트 후 상태:\n",
    "  - 참가자 4는 다음 라운드에서 2번 참가자로 변경됩니다.\n",
    "  - 참가자 7은 다음 라운드에서 4번 참가자로 변경됩니다.\n",
    "\n",
    "라운드 2:\n",
    "- 각 참가자의 번호를 다시 업데이트합니다.\n",
    "- 2번 참가자: (2 + 1) // 2 = 3 // 2 = 1\n",
    "- 4번 참가자: (4 + 1) // 2 = 5 // 2 = 2\n",
    "- 업데이트 후 상태:\n",
    "    - 참가자 2는 다음 라운드에서 1번 참가자로 변경됩니다.\n",
    "    - 참가자 4는 다음 라운드에서 2번 참가자로 변경됩니다.\n",
    "\n",
    "라운드 3:\n",
    "- 각 참가자의 번호를 다시 업데이트합니다.\n",
    "- 1번 참가자: (1 + 1) // 2 = 2 // 2 = 1\n",
    "- 2번 참가자: (2 + 1) // 2 = 3 // 2 = 1\n",
    "- 업데이트 후 상태:\n",
    "    - 참가자 1은 다음 라운드에서 1번 참가자로 변경됩니다.\n",
    "    - 참가자 2는 다음 라운드에서 1번 참가자로 변경됩니다.\n",
    "\n",
    "참가자 만남 확인:\n",
    "\n",
    "- 라운드 3에서 참가자 4번과 참가자 7번은 모두 1번 참가자로 변경되었습니다.\n",
    "- 따라서, 라운드 3에서 두 참가자가 만납니다."
   ]
  },
  {
   "cell_type": "code",
   "execution_count": null,
   "metadata": {},
   "outputs": [],
   "source": []
  }
 ],
 "metadata": {
  "kernelspec": {
   "display_name": "leo4study",
   "language": "python",
   "name": "python3"
  },
  "language_info": {
   "codemirror_mode": {
    "name": "ipython",
    "version": 3
   },
   "file_extension": ".py",
   "mimetype": "text/x-python",
   "name": "python",
   "nbconvert_exporter": "python",
   "pygments_lexer": "ipython3",
   "version": "3.11.9"
  }
 },
 "nbformat": 4,
 "nbformat_minor": 2
}
