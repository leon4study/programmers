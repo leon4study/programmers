{
 "cells": [
  {
   "cell_type": "code",
   "execution_count": 2,
   "metadata": {},
   "outputs": [],
   "source": [
    "#선물 주고받은 이력이 있다면 이번 달 까지 선물을 더 많이 준 사람이 다음달에 선물 하나를 받는다.\n",
    "#서로 주고 받은 수가 같거나 주고받은 이력이 없다면. 선물지수가 더 큰 사람이 선물 지수가 더 작은 사람에게 선물을 하나 받는다.\n",
    "#위에서 설명한 규칙대로 다음 달에 선물을 주고받을 때, 당신은 선물을 가장 많이 받을 친구가 받을 선물의 수를 알고 싶습니다."
   ]
  },
  {
   "cell_type": "code",
   "execution_count": 10,
   "metadata": {},
   "outputs": [],
   "source": [
    "friends = [\"muzi\", \"ryan\", \"frodo\", \"neo\"]\n",
    "friends_len = len(friends)\n",
    "gifts = [\"muzi frodo\", \"muzi frodo\", \"ryan muzi\", \"ryan muzi\", \"ryan muzi\", \"frodo muzi\", \"frodo ryan\", \"neo muzi\"]"
   ]
  },
  {
   "cell_type": "code",
   "execution_count": 4,
   "metadata": {},
   "outputs": [],
   "source": [
    "friends = [\"joy\", \"brad\", \"alessandro\", \"conan\", \"david\"]\n",
    "friends_len = len(friends)\n",
    "gifts = [\"alessandro brad\", \"alessandro joy\", \"alessandro conan\", \"david alessandro\", \"alessandro david\"]"
   ]
  },
  {
   "cell_type": "code",
   "execution_count": 46,
   "metadata": {},
   "outputs": [
    {
     "data": {
      "text/plain": [
       "[[0, 0, 0], [0, 0, 0], [0, 0, 0]]"
      ]
     },
     "execution_count": 46,
     "metadata": {},
     "output_type": "execute_result"
    }
   ],
   "source": [
    "friend_matrix = [[0]*friends_len for _ in range(friends_len)]\n",
    "friend_matrix\n",
    "# \"muzi\" =0 , \"ryan\" = 1, \"frodo\" =2, \"neo\"=3"
   ]
  },
  {
   "cell_type": "code",
   "execution_count": 47,
   "metadata": {},
   "outputs": [],
   "source": [
    "for i in gifts:\n",
    "    a,b = i.split()\n",
    "    a = friends.index(a)\n",
    "    b = friends.index(b)\n",
    "    friend_matrix[a][b] +=1"
   ]
  },
  {
   "cell_type": "code",
   "execution_count": 48,
   "metadata": {},
   "outputs": [
    {
     "data": {
      "text/plain": [
       "[[0, 0, 0], [0, 0, 0], [0, 0, 0]]"
      ]
     },
     "execution_count": 48,
     "metadata": {},
     "output_type": "execute_result"
    }
   ],
   "source": [
    "p_mat = [ [0]* 3 for _ in range(friends_len)]\n",
    "#p[][0] = give_count, #p[][1] = get_count, #p[][2] = p_rate\n",
    "p_mat"
   ]
  },
  {
   "cell_type": "code",
   "execution_count": 49,
   "metadata": {},
   "outputs": [
    {
     "name": "stdout",
     "output_type": "stream",
     "text": [
      "[0, 1, 2]\n",
      "[1, 0, 0]\n",
      "[2, 0, 0]\n"
     ]
    },
    {
     "data": {
      "text/plain": [
       "[[0, 3, 0], [0, 1, 0], [0, 2, 0]]"
      ]
     },
     "execution_count": 49,
     "metadata": {},
     "output_type": "execute_result"
    }
   ],
   "source": [
    "for i in friend_matrix:\n",
    "    print(i)\n",
    "    for j in range(len(i)):\n",
    "        p_mat[j][1]+= i[j] #p[][0] = get_count\n",
    "p_mat"
   ]
  },
  {
   "cell_type": "code",
   "execution_count": 50,
   "metadata": {},
   "outputs": [
    {
     "data": {
      "text/plain": [
       "[[3, 3, 0], [1, 1, 0], [2, 2, 0]]"
      ]
     },
     "execution_count": 50,
     "metadata": {},
     "output_type": "execute_result"
    }
   ],
   "source": [
    "for i in range(friends_len):\n",
    "    p_mat[i][0] = sum(friend_matrix[i]) #p[][0] = give_count\n",
    "    p_mat[i][2] = p_mat[i][0] - p_mat[i][1]\n",
    "p_mat"
   ]
  },
  {
   "cell_type": "code",
   "execution_count": 51,
   "metadata": {},
   "outputs": [
    {
     "data": {
      "text/plain": [
       "[[0, 1, 2], [1, 0, 0], [2, 0, 0]]"
      ]
     },
     "execution_count": 51,
     "metadata": {},
     "output_type": "execute_result"
    }
   ],
   "source": [
    "friend_matrix"
   ]
  },
  {
   "cell_type": "code",
   "execution_count": 52,
   "metadata": {},
   "outputs": [
    {
     "name": "stdout",
     "output_type": "stream",
     "text": [
      "0 1\n",
      "0 2\n",
      "1 2\n"
     ]
    }
   ],
   "source": [
    "# 이거 개념이 좀 어렵던 부분.\n",
    "for i in range(friends_len):\n",
    "    for j in range(i + 1, friends_len):\n",
    "        print(i,j)\n",
    "    #print(i)"
   ]
  },
  {
   "cell_type": "code",
   "execution_count": 53,
   "metadata": {},
   "outputs": [
    {
     "data": {
      "text/plain": [
       "[[3, 3, 0], [1, 1, 0], [2, 2, 0]]"
      ]
     },
     "execution_count": 53,
     "metadata": {},
     "output_type": "execute_result"
    }
   ],
   "source": [
    "p_mat"
   ]
  },
  {
   "cell_type": "code",
   "execution_count": 54,
   "metadata": {},
   "outputs": [
    {
     "data": {
      "text/plain": [
       "0"
      ]
     },
     "execution_count": 54,
     "metadata": {},
     "output_type": "execute_result"
    }
   ],
   "source": [
    "# 비교.\n",
    "total = [0]*friends_len\n",
    "\n",
    "for i in range(friends_len):\n",
    "    for j in range(i + 1, friends_len):\n",
    "        \n",
    "        if friend_matrix[i][j] == friend_matrix[j][i]: # 주고받은 개수 같으면\n",
    "        #선물지수 비교\n",
    "            if p_mat[i][2] == p_mat[j][2]: #선물 지수 같으면\n",
    "                continue #0개.\n",
    "            elif p_mat[i][2] > p_mat[j][2]:\n",
    "                total[i] +=1\n",
    "            else:\n",
    "                total[j]+= 1\n",
    "        elif friend_matrix[i][j] > friend_matrix[j][i]:\n",
    "            total[i] +=1\n",
    "        else:\n",
    "            total[j] +=1\n",
    "\n",
    "max(total)"
   ]
  },
  {
   "cell_type": "code",
   "execution_count": 55,
   "metadata": {},
   "outputs": [
    {
     "data": {
      "text/plain": [
       "[[0, 1, 2], [1, 0, 0], [2, 0, 0]]"
      ]
     },
     "execution_count": 55,
     "metadata": {},
     "output_type": "execute_result"
    }
   ],
   "source": [
    "friend_matrix"
   ]
  },
  {
   "cell_type": "code",
   "execution_count": 56,
   "metadata": {},
   "outputs": [
    {
     "name": "stdout",
     "output_type": "stream",
     "text": [
      "0\n"
     ]
    },
    {
     "data": {
      "text/plain": [
       "'\\nmax_friend = max(friends_dict, key  = friends_dict.get)\\nmax_value = friends_dict[max_friend]\\n'"
      ]
     },
     "execution_count": 56,
     "metadata": {},
     "output_type": "execute_result"
    }
   ],
   "source": [
    "present_rate = {friend : 0 for friend in friends }\n",
    "give_count = {friend : 0 for friend in friends }\n",
    "total_count = {friend : 0 for friend in friends }\n",
    "\n",
    "for i in gifts:\n",
    "    a,b = i.split()\n",
    "    present_rate[a]+=1\n",
    "    give_count[a]+=1\n",
    "    present_rate[b]-=1\n",
    "\n",
    "result = max(present_rate.values())\n",
    "print(result)\n",
    "\n",
    "\n",
    "\"\"\"\n",
    "max_friend = max(friends_dict, key  = friends_dict.get)\n",
    "max_value = friends_dict[max_friend]\n",
    "\"\"\""
   ]
  },
  {
   "cell_type": "markdown",
   "metadata": {},
   "source": [
    "---\n",
    "\n",
    "여기서부터 optimized.py 작성"
   ]
  },
  {
   "cell_type": "code",
   "execution_count": 69,
   "metadata": {},
   "outputs": [],
   "source": [
    "friends = [\"a\", \"b\", \"c\"]\n",
    "friends_len = len(friends)\n",
    "gifts = [\"a b\", \"b a\", \"c a\", \"a c\", \"a c\", \"c a\"]"
   ]
  },
  {
   "cell_type": "code",
   "execution_count": 57,
   "metadata": {},
   "outputs": [
    {
     "name": "stdout",
     "output_type": "stream",
     "text": [
      "(0, 'muzi')\n",
      "(1, 'ryan')\n",
      "(2, 'frodo')\n",
      "(3, 'neo')\n"
     ]
    }
   ],
   "source": [
    "friends = [\"muzi\", \"ryan\", \"frodo\", \"neo\"]\n",
    "friends_len = len(friends)\n",
    "for i in enumerate(friends):\n",
    "    print(i)\n"
   ]
  },
  {
   "cell_type": "code",
   "execution_count": 70,
   "metadata": {},
   "outputs": [
    {
     "data": {
      "text/plain": [
       "{'a': 0, 'b': 1, 'c': 2}"
      ]
     },
     "execution_count": 70,
     "metadata": {},
     "output_type": "execute_result"
    }
   ],
   "source": [
    "friend_index = {name: idx for idx, name in enumerate(friends)}\n",
    "friend_index\n"
   ]
  },
  {
   "cell_type": "code",
   "execution_count": 71,
   "metadata": {},
   "outputs": [
    {
     "data": {
      "text/plain": [
       "[[0, 0, 0], [0, 0, 0], [0, 0, 0]]"
      ]
     },
     "execution_count": 71,
     "metadata": {},
     "output_type": "execute_result"
    }
   ],
   "source": [
    "friend_matrix = [[0] * friends_len for _ in range(friends_len)]\n",
    "friend_matrix"
   ]
  },
  {
   "cell_type": "code",
   "execution_count": 60,
   "metadata": {},
   "outputs": [
    {
     "name": "stdout",
     "output_type": "stream",
     "text": [
      "1\n",
      "2\n",
      "1\n",
      "2\n",
      "3\n",
      "1\n",
      "1\n",
      "1\n"
     ]
    },
    {
     "data": {
      "text/plain": [
       "[[0, 0, 2, 0], [3, 0, 0, 0], [1, 1, 0, 0], [1, 0, 0, 0]]"
      ]
     },
     "execution_count": 60,
     "metadata": {},
     "output_type": "execute_result"
    }
   ],
   "source": [
    "gifts = [\n",
    "    \"muzi frodo\",\n",
    "    \"muzi frodo\",\n",
    "    \"ryan muzi\",\n",
    "    \"ryan muzi\",\n",
    "    \"ryan muzi\",\n",
    "    \"frodo muzi\",\n",
    "    \"frodo ryan\",\n",
    "    \"neo muzi\",\n",
    "]\n",
    "\n"
   ]
  },
  {
   "cell_type": "code",
   "execution_count": 72,
   "metadata": {},
   "outputs": [
    {
     "name": "stdout",
     "output_type": "stream",
     "text": [
      "1\n",
      "1\n",
      "1\n",
      "1\n",
      "2\n",
      "2\n"
     ]
    },
    {
     "data": {
      "text/plain": [
       "[[0, 1, 2], [1, 0, 0], [2, 0, 0]]"
      ]
     },
     "execution_count": 72,
     "metadata": {},
     "output_type": "execute_result"
    }
   ],
   "source": [
    "for gift in gifts:\n",
    "        giver, receiver = gift.split()\n",
    "        giver_index = friends.index(giver)\n",
    "        receiver_index = friends.index(receiver)\n",
    "        friend_matrix[giver_index][receiver_index] += 1\n",
    "        print(friend_matrix[giver_index][receiver_index])\n",
    "\n",
    "friend_matrix"
   ]
  },
  {
   "cell_type": "code",
   "execution_count": 73,
   "metadata": {},
   "outputs": [],
   "source": [
    "total = [0] * friends_len\n",
    "give_count = [0] * friends_len\n",
    "get_count = [0] * friends_len"
   ]
  },
  {
   "cell_type": "code",
   "execution_count": 74,
   "metadata": {},
   "outputs": [
    {
     "name": "stdout",
     "output_type": "stream",
     "text": [
      "0 0\n",
      "0 1\n",
      "0 2\n",
      "1 0\n",
      "1 1\n",
      "1 2\n",
      "2 0\n",
      "2 1\n",
      "2 2\n"
     ]
    }
   ],
   "source": [
    "for i in range(friends_len):\n",
    "    for j in range(friends_len):\n",
    "        print(i,j)"
   ]
  },
  {
   "cell_type": "code",
   "execution_count": 75,
   "metadata": {},
   "outputs": [],
   "source": [
    "for i in range(friends_len):\n",
    "        for j in range(friends_len):\n",
    "            give_count[i] += friend_matrix[i][j]\n",
    "            get_count[j] += friend_matrix[i][j]\n"
   ]
  },
  {
   "cell_type": "code",
   "execution_count": 76,
   "metadata": {},
   "outputs": [
    {
     "data": {
      "text/plain": [
       "[3, 1, 2]"
      ]
     },
     "execution_count": 76,
     "metadata": {},
     "output_type": "execute_result"
    }
   ],
   "source": [
    "give_count"
   ]
  },
  {
   "cell_type": "code",
   "execution_count": 77,
   "metadata": {},
   "outputs": [
    {
     "data": {
      "text/plain": [
       "[3, 1, 2]"
      ]
     },
     "execution_count": 77,
     "metadata": {},
     "output_type": "execute_result"
    }
   ],
   "source": [
    "get_count"
   ]
  },
  {
   "cell_type": "code",
   "execution_count": 78,
   "metadata": {},
   "outputs": [
    {
     "name": "stdout",
     "output_type": "stream",
     "text": [
      "0\n"
     ]
    }
   ],
   "source": [
    "for i in range(friends_len):\n",
    "        for j in range(i + 1, friends_len):\n",
    "            if friend_matrix[i][j] == friend_matrix[j][i]:\n",
    "                if (\n",
    "                    give_count[i] - get_count[i] > give_count[j] - get_count[j]\n",
    "                ):  # 추가로 matrix 생성 x.\n",
    "                    total[i] += 1\n",
    "                elif (\n",
    "                    give_count[i] - get_count[i] < give_count[j] - get_count[j]\n",
    "                ):  # if 조건문에서 continue 가 나오는 코드가 있으면 if 문 자체를 적지 x\n",
    "                    total[j] += 1\n",
    "            elif friend_matrix[i][j] > friend_matrix[j][i]:\n",
    "                total[i] += 1\n",
    "            else:\n",
    "                total[i] += 1\n",
    "\n",
    "answer = max(total)\n",
    "print(answer)"
   ]
  },
  {
   "cell_type": "markdown",
   "metadata": {},
   "source": [
    "--- \n",
    "optimized2.py"
   ]
  },
  {
   "cell_type": "code",
   "execution_count": 79,
   "metadata": {},
   "outputs": [],
   "source": [
    "friends = [\"muzi\", \"ryan\", \"frodo\", \"neo\"]\n",
    "gifts = [\n",
    "    \"muzi frodo\",\n",
    "    \"muzi frodo\",\n",
    "    \"ryan muzi\",\n",
    "    \"ryan muzi\",\n",
    "    \"ryan muzi\",\n",
    "    \"frodo muzi\",\n",
    "    \"frodo ryan\",\n",
    "    \"neo muzi\",\n",
    "]"
   ]
  },
  {
   "cell_type": "code",
   "execution_count": 84,
   "metadata": {},
   "outputs": [],
   "source": [
    "friends_len = len(friends)\n",
    "\n",
    "# 친구 이름을 인덱스로 매핑\n",
    "friend_index = {name: idx for idx, name in enumerate(friends)}\n",
    "\n",
    "# 주고받은 선물 횟수를 기록할 배열 초기화\n",
    "give_count = [0] * friends_len\n",
    "get_count = [0] * friends_len"
   ]
  },
  {
   "cell_type": "code",
   "execution_count": 87,
   "metadata": {},
   "outputs": [],
   "source": [
    "# 선물 주고받기 기록\n",
    "for gift in gifts:\n",
    "    giver, receiver = gift.split()\n",
    "    giver_idx = friend_index[giver]\n",
    "    receiver_idx = friend_index[receiver]\n",
    "    give_count[giver_idx] += 1\n",
    "    get_count[receiver_idx] += 1\n"
   ]
  },
  {
   "cell_type": "code",
   "execution_count": 88,
   "metadata": {},
   "outputs": [
    {
     "data": {
      "text/plain": [
       "[2, 3, 2, 1]"
      ]
     },
     "execution_count": 88,
     "metadata": {},
     "output_type": "execute_result"
    }
   ],
   "source": [
    "give_count"
   ]
  },
  {
   "cell_type": "code",
   "execution_count": 89,
   "metadata": {},
   "outputs": [
    {
     "data": {
      "text/plain": [
       "[5, 1, 2, 0]"
      ]
     },
     "execution_count": 89,
     "metadata": {},
     "output_type": "execute_result"
    }
   ],
   "source": [
    "get_count"
   ]
  },
  {
   "cell_type": "code",
   "execution_count": 90,
   "metadata": {},
   "outputs": [],
   "source": [
    "# 비교 및 결과 계산\n",
    "total = [0] * friends_len\n",
    "\n",
    "for i in range(friends_len):\n",
    "    for j in range(i + 1, friends_len):\n",
    "        \n",
    "        if give_count[i] == give_count[j] and get_count[i] == get_count[j]:\n",
    "            continue\n",
    "        if give_count[i] - get_count[i] > give_count[j] - get_count[j]:\n",
    "            total[i] += 1\n",
    "        elif give_count[i] - get_count[i] < give_count[j] - get_count[j]:\n",
    "            total[j] += 1\n",
    "\n",
    "answer = max(total)"
   ]
  },
  {
   "cell_type": "code",
   "execution_count": 91,
   "metadata": {},
   "outputs": [
    {
     "name": "stdout",
     "output_type": "stream",
     "text": [
      "3\n"
     ]
    }
   ],
   "source": [
    "print(solution(friends, gifts))"
   ]
  },
  {
   "cell_type": "code",
   "execution_count": null,
   "metadata": {},
   "outputs": [],
   "source": []
  }
 ],
 "metadata": {
  "kernelspec": {
   "display_name": "yolo_dev",
   "language": "python",
   "name": "python3"
  },
  "language_info": {
   "codemirror_mode": {
    "name": "ipython",
    "version": 3
   },
   "file_extension": ".py",
   "mimetype": "text/x-python",
   "name": "python",
   "nbconvert_exporter": "python",
   "pygments_lexer": "ipython3",
   "version": "3.11.9"
  }
 },
 "nbformat": 4,
 "nbformat_minor": 2
}
