{
 "cells": [
  {
   "cell_type": "markdown",
   "metadata": {},
   "source": [
    "##### 문제 설명\n",
    "\n",
    "머쓱이는 태어난 지 6개월 된 조카를 돌보고 있습니다. 조카는 아직 \"aya\", \"ye\", \"woo\", \"ma\" 네 가지 발음을 최대 한 번씩 사용해 조합한(이어 붙인) 발음밖에 하지 못합니다. 문자열 배열 babbling이 매개변수로 주어질 때, 머쓱이의 조카가 발음할 수 있는 단어의 개수를 return하도록 solution 함수를 완성해주세요."
   ]
  },
  {
   "cell_type": "markdown",
   "metadata": {},
   "source": [
    "##### 제한사항\n",
    "1 ≤ babbling의 길이 ≤ 100\n",
    "1 ≤ babbling[i]의 길이 ≤ 15\n",
    "babbling의 각 문자열에서 \"aya\", \"ye\", \"woo\", \"ma\"는 각각 최대 한 번씩만 등장합니다.\n",
    "즉, 각 문자열의 가능한 모든 부분 문자열 중에서 \"aya\", \"ye\", \"woo\", \"ma\"가 한 번씩만 등장합니다.\n",
    "문자열은 알파벳 소문자로만 이루어져 있습니다."
   ]
  },
  {
   "cell_type": "markdown",
   "metadata": {
    "vscode": {
     "languageId": "plaintext"
    }
   },
   "source": [
    "##### 유의사항\n",
    "\n",
    "네 가지를 붙여 만들 수 있는 발음 이외에는 어떤 발음도 할 수 없는 것으로 규정합니다. 예를 들어 \"woowo\"는 \"woo\"는 발음할 수 있지만 \"wo\"를 발음할 수 없기 때문에 할 수 없는 발음입니다.\n"
   ]
  },
  {
   "cell_type": "markdown",
   "metadata": {},
   "source": [
    "##### 입출력 예 설명\n",
    "입출력 예 #1\n",
    "- [\"aya\", \"yee\", \"u\", \"maa\", \"wyeoo\"]에서 발음할 수 있는 것은 \"aya\"뿐입니다. 따라서 1을 return합니다.\n",
    "\n",
    "입출력 예 #2\n",
    "- [\"ayaye\", \"uuuma\", \"ye\", \"yemawoo\", \"ayaa\"]에서 발음할 수 있는 것은 \"aya\" + \"ye\" = \"ayaye\", \"ye\", \"ye\" + \"ma\" + \"woo\" = \"yemawoo\"로 3개입니다. 따라서 3을 return합니다.\n"
   ]
  },
  {
   "cell_type": "code",
   "execution_count": 25,
   "metadata": {},
   "outputs": [
    {
     "data": {
      "text/plain": [
       "'ma'"
      ]
     },
     "execution_count": 25,
     "metadata": {},
     "output_type": "execute_result"
    }
   ],
   "source": [
    "\"myewooa\".replace(\"ye\",\"\").replace(\"woo\",\"\")"
   ]
  },
  {
   "cell_type": "code",
   "execution_count": 9,
   "metadata": {},
   "outputs": [],
   "source": [
    "def solution(babbling):\n",
    "    answer = 0\n",
    "    return answer"
   ]
  },
  {
   "cell_type": "code",
   "execution_count": 2,
   "metadata": {},
   "outputs": [],
   "source": [
    "t = [\"ye\",\"ma\",\"aya\",\"woo\"]\n",
    "babbling = [\"ayaye\", \"uuuma\", \"ye\", \"yemawoo\", \"ayaa\"]\t"
   ]
  },
  {
   "cell_type": "code",
   "execution_count": 12,
   "metadata": {},
   "outputs": [
    {
     "name": "stdout",
     "output_type": "stream",
     "text": [
      "ayaye\n",
      "aya\n",
      "\n",
      "count\n",
      "uuuma\n",
      "uuu\n",
      "ye\n",
      "\n",
      "count\n",
      "yemawoo\n",
      "mawoo\n",
      "woo\n",
      "\n",
      "count\n",
      "ayaa\n",
      "\n",
      "count\n",
      "4\n"
     ]
    }
   ],
   "source": [
    "count = 0\n",
    "for i in babbling:\n",
    "    txt = i\n",
    "    print(txt)\n",
    "    for j in t:\n",
    "        if j in i:\n",
    "            txt = txt.strip(j)\n",
    "            print(txt)\n",
    "    if txt == \"\":\n",
    "        count +=1\n",
    "        print(\"count\")\n",
    "\n",
    "print(count)"
   ]
  },
  {
   "cell_type": "code",
   "execution_count": 26,
   "metadata": {},
   "outputs": [
    {
     "data": {
      "text/plain": [
       "'ye|ma|aya|woo'"
      ]
     },
     "execution_count": 26,
     "metadata": {},
     "output_type": "execute_result"
    }
   ],
   "source": [
    "def solution(babbling):\n",
    "    valid_sound = [\"ye\",\"ma\",\"aya\",\"woo\"]\n",
    "    count = 0\n",
    "\n",
    "    for word in babbling:\n",
    "        for sound in valid_sound:\n",
    "            if sound in word:\n",
    "                word = word.replace(sound, \"\", 1)\n",
    "        \n",
    "        word = word.replace(\" \",\"\")\n",
    "        if not word:\n",
    "            count +=1\n",
    "    "
   ]
  },
  {
   "cell_type": "code",
   "execution_count": null,
   "metadata": {},
   "outputs": [],
   "source": []
  },
  {
   "cell_type": "code",
   "execution_count": 17,
   "metadata": {},
   "outputs": [
    {
     "data": {
      "text/plain": [
       "'yoo'"
      ]
     },
     "execution_count": 17,
     "metadata": {},
     "output_type": "execute_result"
    }
   ],
   "source": [
    "\"wmaoo\".replace(\"ma\",\"\").replace(\"ew\",\"\")"
   ]
  },
  {
   "cell_type": "code",
   "execution_count": 22,
   "metadata": {},
   "outputs": [
    {
     "name": "stdout",
     "output_type": "stream",
     "text": [
      "3\n"
     ]
    }
   ],
   "source": [
    "babbling = [\"ayaye\", \"uuuma\", \"ye\", \"yemawoo\", \"ayaa\"]\n",
    "\n",
    "def solution(babbling):\n",
    "    valid_sound = [\"ye\",\"ma\",\"aya\",\"woo\"]\n",
    "    count = 0\n",
    "\n",
    "    for word in babbling:\n",
    "        for sound in valid_sound:\n",
    "            if sound in word:\n",
    "                word = word.replace(sound, \" \", 1) #유효한 발음을 한 번씩만 제거\n",
    "        word = word.replace(\" \",\"\") # 공백 제거.\n",
    "        if not word: #word 가 비어있으면\n",
    "            count +=1\n",
    "        \n",
    "    return count\n",
    "\n",
    "print(solution(babbling))\n"
   ]
  },
  {
   "cell_type": "code",
   "execution_count": 21,
   "metadata": {},
   "outputs": [
    {
     "data": {
      "text/plain": [
       "'abcd'"
      ]
     },
     "execution_count": 21,
     "metadata": {},
     "output_type": "execute_result"
    }
   ],
   "source": [
    "\"abcdabcd\".replace('abcd',\"\",1)"
   ]
  },
  {
   "cell_type": "code",
   "execution_count": null,
   "metadata": {},
   "outputs": [],
   "source": []
  },
  {
   "cell_type": "code",
   "execution_count": 18,
   "metadata": {},
   "outputs": [
    {
     "name": "stdout",
     "output_type": "stream",
     "text": [
      "not word\n"
     ]
    }
   ],
   "source": [
    "word = \"\"\n",
    "if not word:\n",
    "    print(\"not word\")"
   ]
  },
  {
   "cell_type": "code",
   "execution_count": 4,
   "metadata": {},
   "outputs": [
    {
     "data": {
      "text/plain": [
       "''"
      ]
     },
     "execution_count": 4,
     "metadata": {},
     "output_type": "execute_result"
    }
   ],
   "source": [
    "s = \"aayaay\"\n",
    "s.lstrip('aya')"
   ]
  },
  {
   "cell_type": "code",
   "execution_count": 23,
   "metadata": {},
   "outputs": [
    {
     "data": {
      "text/plain": [
       "''"
      ]
     },
     "execution_count": 23,
     "metadata": {},
     "output_type": "execute_result"
    }
   ],
   "source": [
    "word = 'wmaoo'.replace(\"ma\",\"\").replace(\"woo\",\"\")\n",
    "word"
   ]
  },
  {
   "cell_type": "code",
   "execution_count": 19,
   "metadata": {},
   "outputs": [
    {
     "data": {
      "text/plain": [
       "True"
      ]
     },
     "execution_count": 19,
     "metadata": {},
     "output_type": "execute_result"
    }
   ],
   "source": [
    "word = \"\"\n",
    "not word"
   ]
  },
  {
   "cell_type": "code",
   "execution_count": null,
   "metadata": {},
   "outputs": [],
   "source": []
  }
 ],
 "metadata": {
  "kernelspec": {
   "display_name": "leo4study",
   "language": "python",
   "name": "python3"
  },
  "language_info": {
   "codemirror_mode": {
    "name": "ipython",
    "version": 3
   },
   "file_extension": ".py",
   "mimetype": "text/x-python",
   "name": "python",
   "nbconvert_exporter": "python",
   "pygments_lexer": "ipython3",
   "version": "3.11.9"
  }
 },
 "nbformat": 4,
 "nbformat_minor": 2
}
