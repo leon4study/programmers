{
 "cells": [
  {
   "cell_type": "code",
   "execution_count": 1,
   "metadata": {},
   "outputs": [],
   "source": [
    "#선물 주고받은 이력이 있다면 이번 달 까지 선물을 더 많이 준 사람이 다음달에 선물 하나를 받는다.\n",
    "#서로 주고 받은 수가 같거나 주고받은 이력이 없다면. 선물지수가 더 큰 사람이 선물 지수가 더 작은 사람에게 선물을 하나 받는다.\n",
    "#위에서 설명한 규칙대로 다음 달에 선물을 주고받을 때, 당신은 선물을 가장 많이 받을 친구가 받을 선물의 수를 알고 싶습니다."
   ]
  },
  {
   "cell_type": "code",
   "execution_count": 2,
   "metadata": {},
   "outputs": [],
   "source": [
    "friends = [\"muzi\", \"ryan\", \"frodo\", \"neo\"]\n",
    "friends_len = len(friends)\n",
    "gifts = [\"muzi frodo\", \"muzi frodo\", \"ryan muzi\", \"ryan muzi\", \"ryan muzi\", \"frodo muzi\", \"frodo ryan\", \"neo muzi\"]"
   ]
  },
  {
   "cell_type": "code",
   "execution_count": 2,
   "metadata": {},
   "outputs": [],
   "source": [
    "friends = [\"joy\", \"brad\", \"alessandro\", \"conan\", \"david\"]\n",
    "friends_len = len(friends)\n",
    "gifts = [\"alessandro brad\", \"alessandro joy\", \"alessandro conan\", \"david alessandro\", \"alessandro david\"]"
   ]
  },
  {
   "cell_type": "code",
   "execution_count": 3,
   "metadata": {},
   "outputs": [
    {
     "data": {
      "text/plain": [
       "[[0, 0, 0, 0, 0],\n",
       " [0, 0, 0, 0, 0],\n",
       " [0, 0, 0, 0, 0],\n",
       " [0, 0, 0, 0, 0],\n",
       " [0, 0, 0, 0, 0]]"
      ]
     },
     "execution_count": 3,
     "metadata": {},
     "output_type": "execute_result"
    }
   ],
   "source": [
    "friend_matrix = [[0]*friends_len for _ in range(friends_len)]\n",
    "friend_matrix\n",
    "# \"muzi\" =0 , \"ryan\" = 1, \"frodo\" =2, \"neo\"=3"
   ]
  },
  {
   "cell_type": "code",
   "execution_count": 4,
   "metadata": {},
   "outputs": [],
   "source": [
    "for i in gifts:\n",
    "    a,b = i.split()\n",
    "    a = friends.index(a)\n",
    "    b = friends.index(b)\n",
    "    friend_matrix[a][b] +=1"
   ]
  },
  {
   "cell_type": "code",
   "execution_count": 48,
   "metadata": {},
   "outputs": [
    {
     "data": {
      "text/plain": [
       "[[0, 0, 0], [0, 0, 0], [0, 0, 0], [0, 0, 0], [0, 0, 0]]"
      ]
     },
     "execution_count": 48,
     "metadata": {},
     "output_type": "execute_result"
    }
   ],
   "source": [
    "p_mat = [ [0]* 3 for _ in range(friends_len)]\n",
    "#p[][0] = give_count, #p[][1] = get_count, #p[][2] = p_rate\n",
    "p_mat"
   ]
  },
  {
   "cell_type": "code",
   "execution_count": 49,
   "metadata": {},
   "outputs": [
    {
     "name": "stdout",
     "output_type": "stream",
     "text": [
      "[0, 0, 0, 0, 0]\n",
      "[0, 0, 0, 0, 0]\n",
      "[1, 1, 0, 1, 1]\n",
      "[0, 0, 0, 0, 0]\n",
      "[0, 0, 1, 0, 0]\n"
     ]
    },
    {
     "data": {
      "text/plain": [
       "[[0, 1, 0], [0, 1, 0], [0, 1, 0], [0, 1, 0], [0, 1, 0]]"
      ]
     },
     "execution_count": 49,
     "metadata": {},
     "output_type": "execute_result"
    }
   ],
   "source": [
    "for i in friend_matrix:\n",
    "    print(i)\n",
    "    for j in range(len(i)):\n",
    "        p_mat[j][1]+= i[j] #p[][0] = get_count\n",
    "p_mat"
   ]
  },
  {
   "cell_type": "code",
   "execution_count": 50,
   "metadata": {},
   "outputs": [
    {
     "data": {
      "text/plain": [
       "[[0, 1, -1], [0, 1, -1], [4, 1, 3], [0, 1, -1], [1, 1, 0]]"
      ]
     },
     "execution_count": 50,
     "metadata": {},
     "output_type": "execute_result"
    }
   ],
   "source": [
    "for i in range(friends_len):\n",
    "    p_mat[i][0] = sum(friend_matrix[i]) #p[][0] = give_count\n",
    "    p_mat[i][2] = p_mat[i][0] - p_mat[i][1]\n",
    "p_mat"
   ]
  },
  {
   "cell_type": "code",
   "execution_count": 51,
   "metadata": {},
   "outputs": [
    {
     "data": {
      "text/plain": [
       "[[0, 0, 0, 0, 0],\n",
       " [0, 0, 0, 0, 0],\n",
       " [1, 1, 0, 1, 1],\n",
       " [0, 0, 0, 0, 0],\n",
       " [0, 0, 1, 0, 0]]"
      ]
     },
     "execution_count": 51,
     "metadata": {},
     "output_type": "execute_result"
    }
   ],
   "source": [
    "friend_matrix"
   ]
  },
  {
   "cell_type": "code",
   "execution_count": 52,
   "metadata": {},
   "outputs": [
    {
     "name": "stdout",
     "output_type": "stream",
     "text": [
      "0 1\n",
      "0 2\n",
      "0 3\n",
      "0 4\n",
      "1 2\n",
      "1 3\n",
      "1 4\n",
      "2 3\n",
      "2 4\n",
      "3 4\n"
     ]
    }
   ],
   "source": [
    "# 이거 개념이 좀 어렵던 부분.\n",
    "for i in range(friends_len):\n",
    "    for j in range(i + 1, friends_len):\n",
    "        print(i,j)\n",
    "    #print(i)"
   ]
  },
  {
   "cell_type": "code",
   "execution_count": 53,
   "metadata": {},
   "outputs": [
    {
     "data": {
      "text/plain": [
       "[[0, 1, -1], [0, 1, -1], [4, 1, 3], [0, 1, -1], [1, 1, 0]]"
      ]
     },
     "execution_count": 53,
     "metadata": {},
     "output_type": "execute_result"
    }
   ],
   "source": [
    "p_mat"
   ]
  },
  {
   "cell_type": "code",
   "execution_count": 54,
   "metadata": {},
   "outputs": [
    {
     "data": {
      "text/plain": [
       "4"
      ]
     },
     "execution_count": 54,
     "metadata": {},
     "output_type": "execute_result"
    }
   ],
   "source": [
    "# 비교.\n",
    "total = [0]*friends_len\n",
    "\n",
    "for i in range(friends_len):\n",
    "    for j in range(i + 1, friends_len):\n",
    "        \n",
    "        if friend_matrix[i][j] == friend_matrix[j][i]: # 주고받은 개수 같으면\n",
    "        #선물지수 비교\n",
    "            if p_mat[i][2] == p_mat[j][2]: #선물 지수 같으면\n",
    "                continue #0개.\n",
    "            elif p_mat[i][2] > p_mat[j][2]:\n",
    "                total[i] +=1\n",
    "            else:\n",
    "                total[j]+= 1\n",
    "        elif friend_matrix[i][j] > friend_matrix[j][i]:\n",
    "            total[i] +=1\n",
    "        else:\n",
    "            total[j] +=1\n",
    "\n",
    "max(total)"
   ]
  },
  {
   "cell_type": "code",
   "execution_count": 55,
   "metadata": {},
   "outputs": [
    {
     "data": {
      "text/plain": [
       "[[0, 0, 0, 0, 0],\n",
       " [0, 0, 0, 0, 0],\n",
       " [1, 1, 0, 1, 1],\n",
       " [0, 0, 0, 0, 0],\n",
       " [0, 0, 1, 0, 0]]"
      ]
     },
     "execution_count": 55,
     "metadata": {},
     "output_type": "execute_result"
    }
   ],
   "source": [
    "friend_matrix"
   ]
  },
  {
   "cell_type": "code",
   "execution_count": 56,
   "metadata": {},
   "outputs": [
    {
     "name": "stdout",
     "output_type": "stream",
     "text": [
      "3\n"
     ]
    },
    {
     "data": {
      "text/plain": [
       "'\\nmax_friend = max(friends_dict, key  = friends_dict.get)\\nmax_value = friends_dict[max_friend]\\n'"
      ]
     },
     "execution_count": 56,
     "metadata": {},
     "output_type": "execute_result"
    }
   ],
   "source": [
    "present_rate = {friend : 0 for friend in friends }\n",
    "give_count = {friend : 0 for friend in friends }\n",
    "total_count = {friend : 0 for friend in friends }\n",
    "\n",
    "for i in gifts:\n",
    "    a,b = i.split()\n",
    "    present_rate[a]+=1\n",
    "    give_count[a]+=1\n",
    "    present_rate[b]-=1\n",
    "\n",
    "result = max(present_rate.values())\n",
    "print(result)\n",
    "\n",
    "\n",
    "\"\"\"\n",
    "max_friend = max(friends_dict, key  = friends_dict.get)\n",
    "max_value = friends_dict[max_friend]\n",
    "\"\"\""
   ]
  },
  {
   "cell_type": "code",
   "execution_count": 3,
   "metadata": {},
   "outputs": [],
   "source": [
    "import sys"
   ]
  },
  {
   "cell_type": "code",
   "execution_count": 5,
   "metadata": {},
   "outputs": [
    {
     "data": {
      "text/plain": [
       "'/opt/homebrew/Caskroom/miniconda/base/envs/yolo_dev/bin/python'"
      ]
     },
     "execution_count": 5,
     "metadata": {},
     "output_type": "execute_result"
    }
   ],
   "source": [
    "sys.executable"
   ]
  },
  {
   "cell_type": "code",
   "execution_count": null,
   "metadata": {},
   "outputs": [],
   "source": []
  }
 ],
 "metadata": {
  "kernelspec": {
   "display_name": "yolo_dev",
   "language": "python",
   "name": "python3"
  },
  "language_info": {
   "codemirror_mode": {
    "name": "ipython",
    "version": 3
   },
   "file_extension": ".py",
   "mimetype": "text/x-python",
   "name": "python",
   "nbconvert_exporter": "python",
   "pygments_lexer": "ipython3",
   "version": "3.11.0"
  }
 },
 "nbformat": 4,
 "nbformat_minor": 2
}
